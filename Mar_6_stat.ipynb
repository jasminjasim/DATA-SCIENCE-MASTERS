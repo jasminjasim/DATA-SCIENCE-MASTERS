{
 "cells": [
  {
   "cell_type": "markdown",
   "id": "caf7c63d-ee5a-4cf6-8f8c-4f00f5522a71",
   "metadata": {},
   "source": [
    "Q1. What is Statistics?"
   ]
  },
  {
   "cell_type": "code",
   "execution_count": 1,
   "id": "902c5207-c9ac-4686-b99d-18d728c92278",
   "metadata": {},
   "outputs": [],
   "source": [
    "# science  of collectiong,organizing and analyzing the data"
   ]
  },
  {
   "cell_type": "markdown",
   "id": "52b7c22d-80d3-42cd-b153-bf41dba8e0c8",
   "metadata": {},
   "source": [
    "Define the different types of statistics and give an example of when each type might be used."
   ]
  },
  {
   "cell_type": "code",
   "execution_count": 2,
   "id": "64fe80b1-f2b0-43c5-b687-7df6569d1f93",
   "metadata": {},
   "outputs": [],
   "source": [
    "# two types:\n",
    "#     descriptive statistics eg:mean of a data\n",
    "#     inferential statistics eg:infering a conclusion from a sample which are taken from a population\n",
    "#     eg:voting prediction\n",
    "    "
   ]
  },
  {
   "cell_type": "markdown",
   "id": "1f008a14-8d56-4b96-82e5-c83dca8808f0",
   "metadata": {},
   "source": [
    "Q3. What are the different types of data and how do they differ from each other? Provide an example of\n",
    "each type of data."
   ]
  },
  {
   "cell_type": "code",
   "execution_count": 3,
   "id": "a2b7d0e3-1fdc-4acb-b6f4-6c8f49f08198",
   "metadata": {},
   "outputs": [],
   "source": [
    "\n",
    "# Quantitative and Qualitative\n",
    "# Quantitative again divided into two:discrete and continuous\n",
    "# Qualitative again divided into 2: Nominal and Ordinal\n",
    "# discrete quantitative eg:dice problem\n",
    "# continuous quantitative eg: house price\n",
    "# Nominal qualitative:Gender\n",
    "# Ordinal Qualitative eg:Grade\n",
    "\n"
   ]
  },
  {
   "cell_type": "markdown",
   "id": "717797a4-b246-49bc-8b45-d59afab8f192",
   "metadata": {},
   "source": [
    "Q4. Categorise the following datasets with respect to quantitative and qualitative data types:\n"
   ]
  },
  {
   "cell_type": "code",
   "execution_count": 5,
   "id": "c2e1b127-805c-4a96-ae9f-20803f5b99db",
   "metadata": {},
   "outputs": [],
   "source": [
    "# (i) Grading in exam: A+, A, B+, B, C+, C, D, E #Qualitative, Nominal\n",
    "# (ii) Colour of mangoes: yellow, green, orange, red#Qualitative, Nominal\n",
    "# (iii) Height data of a class: [178.9, 179, 179.5, 176, 177.2, 178.3, 175.8,...]#Qnatitative,continuous\n",
    "# (iv) Number of mangoes exported by a farm: [500, 600, 478, 672, ...]#Quantitative,discrete"
   ]
  },
  {
   "cell_type": "markdown",
   "id": "1d2306bf-a23f-44b8-b75e-115fdf02028e",
   "metadata": {},
   "source": [
    "Q5. Explain the concept of levels of measurement and give an example of a variable for each level."
   ]
  },
  {
   "cell_type": "code",
   "execution_count": 6,
   "id": "190afeb7-73f6-4ff0-902f-b1b693ea17ac",
   "metadata": {},
   "outputs": [],
   "source": [
    "# 4 types\n",
    "# Nominal scale data eg:gender\n",
    "# ordinal scale data eg:designations\n",
    "# interval scale data eg:IQ\n",
    "# ratio scale data eg:grades"
   ]
  },
  {
   "cell_type": "code",
   "execution_count": 10,
   "id": "7320ce62-302e-4d83-b15c-f94469d3b1f6",
   "metadata": {},
   "outputs": [],
   "source": [
    "# Q6. Why is it important to understand the level of measurement when analyzing data? Provide an\n",
    "# example to illustrate your answer."
   ]
  },
  {
   "cell_type": "code",
   "execution_count": 9,
   "id": "31c83b52-25f8-4c2a-bec3-4e7df090e165",
   "metadata": {},
   "outputs": [],
   "source": [
    "# It is important to look on the level of measurement of an attribute in the dataset for analyzing the data.\n",
    "# if the data is discrete ,it is not possible to perform any kind of mathematical operations on it.\n",
    "# if it is continuous it is possible to perform different kinds of mathematical analysis on it."
   ]
  },
  {
   "cell_type": "markdown",
   "id": "87335621-03ea-472b-a9b2-d5e36f4748d3",
   "metadata": {},
   "source": [
    "Q7. How nominal data type is different from ordinal data type."
   ]
  },
  {
   "cell_type": "code",
   "execution_count": 11,
   "id": "0846be4a-4d9e-468f-ab21-28c9b8461ae1",
   "metadata": {},
   "outputs": [],
   "source": [
    "# Nominal data type eg:gender,it is not possible to differentiate\n",
    "# Ordinal data type eg:rating like good average "
   ]
  },
  {
   "cell_type": "markdown",
   "id": "97a27e87-7637-4c2e-91c4-cf969c577333",
   "metadata": {},
   "source": [
    "Q8. Which type of plot can be used to display data in terms of range?"
   ]
  },
  {
   "cell_type": "code",
   "execution_count": 12,
   "id": "69f32378-2eec-426d-913b-45b343cdbce2",
   "metadata": {},
   "outputs": [],
   "source": [
    "# scatter plot"
   ]
  },
  {
   "cell_type": "markdown",
   "id": "2eef9d69-cd6c-41ed-a309-f542e5e6c1f6",
   "metadata": {},
   "source": [
    "Q9. Describe the difference between descriptive and inferential statistics. Give an example of each\n",
    "type of statistics and explain how they are used."
   ]
  },
  {
   "cell_type": "code",
   "execution_count": 1,
   "id": "cd4f3694-d9ad-4896-8862-b2f0aa04b0a8",
   "metadata": {},
   "outputs": [],
   "source": [
    "# descriptive statistics we can find out some insights of datasets like how much data is dispersed from central mean etc\n",
    "# where as in inferential statistics we are trying infer our insights or conclusion about a data is same as that of the actual one\n",
    "# eg: mean mode,median etc are some of the common descriptive statistics\n",
    "# eg: pvalue,z value,ptest,\n"
   ]
  },
  {
   "cell_type": "code",
   "execution_count": 2,
   "id": "381e3e5b-c7de-42b4-994d-dc5d3572d49b",
   "metadata": {},
   "outputs": [],
   "source": [
    "import seaborn as sns"
   ]
  },
  {
   "cell_type": "code",
   "execution_count": 4,
   "id": "8a9812a7-6cab-4659-90b6-06f0ec4d4beb",
   "metadata": {},
   "outputs": [
    {
     "data": {
      "text/html": [
       "<div>\n",
       "<style scoped>\n",
       "    .dataframe tbody tr th:only-of-type {\n",
       "        vertical-align: middle;\n",
       "    }\n",
       "\n",
       "    .dataframe tbody tr th {\n",
       "        vertical-align: top;\n",
       "    }\n",
       "\n",
       "    .dataframe thead th {\n",
       "        text-align: right;\n",
       "    }\n",
       "</style>\n",
       "<table border=\"1\" class=\"dataframe\">\n",
       "  <thead>\n",
       "    <tr style=\"text-align: right;\">\n",
       "      <th></th>\n",
       "      <th>total_bill</th>\n",
       "      <th>tip</th>\n",
       "      <th>sex</th>\n",
       "      <th>smoker</th>\n",
       "      <th>day</th>\n",
       "      <th>time</th>\n",
       "      <th>size</th>\n",
       "    </tr>\n",
       "  </thead>\n",
       "  <tbody>\n",
       "    <tr>\n",
       "      <th>0</th>\n",
       "      <td>16.99</td>\n",
       "      <td>1.01</td>\n",
       "      <td>Female</td>\n",
       "      <td>No</td>\n",
       "      <td>Sun</td>\n",
       "      <td>Dinner</td>\n",
       "      <td>2</td>\n",
       "    </tr>\n",
       "    <tr>\n",
       "      <th>1</th>\n",
       "      <td>10.34</td>\n",
       "      <td>1.66</td>\n",
       "      <td>Male</td>\n",
       "      <td>No</td>\n",
       "      <td>Sun</td>\n",
       "      <td>Dinner</td>\n",
       "      <td>3</td>\n",
       "    </tr>\n",
       "    <tr>\n",
       "      <th>2</th>\n",
       "      <td>21.01</td>\n",
       "      <td>3.50</td>\n",
       "      <td>Male</td>\n",
       "      <td>No</td>\n",
       "      <td>Sun</td>\n",
       "      <td>Dinner</td>\n",
       "      <td>3</td>\n",
       "    </tr>\n",
       "    <tr>\n",
       "      <th>3</th>\n",
       "      <td>23.68</td>\n",
       "      <td>3.31</td>\n",
       "      <td>Male</td>\n",
       "      <td>No</td>\n",
       "      <td>Sun</td>\n",
       "      <td>Dinner</td>\n",
       "      <td>2</td>\n",
       "    </tr>\n",
       "    <tr>\n",
       "      <th>4</th>\n",
       "      <td>24.59</td>\n",
       "      <td>3.61</td>\n",
       "      <td>Female</td>\n",
       "      <td>No</td>\n",
       "      <td>Sun</td>\n",
       "      <td>Dinner</td>\n",
       "      <td>4</td>\n",
       "    </tr>\n",
       "    <tr>\n",
       "      <th>...</th>\n",
       "      <td>...</td>\n",
       "      <td>...</td>\n",
       "      <td>...</td>\n",
       "      <td>...</td>\n",
       "      <td>...</td>\n",
       "      <td>...</td>\n",
       "      <td>...</td>\n",
       "    </tr>\n",
       "    <tr>\n",
       "      <th>239</th>\n",
       "      <td>29.03</td>\n",
       "      <td>5.92</td>\n",
       "      <td>Male</td>\n",
       "      <td>No</td>\n",
       "      <td>Sat</td>\n",
       "      <td>Dinner</td>\n",
       "      <td>3</td>\n",
       "    </tr>\n",
       "    <tr>\n",
       "      <th>240</th>\n",
       "      <td>27.18</td>\n",
       "      <td>2.00</td>\n",
       "      <td>Female</td>\n",
       "      <td>Yes</td>\n",
       "      <td>Sat</td>\n",
       "      <td>Dinner</td>\n",
       "      <td>2</td>\n",
       "    </tr>\n",
       "    <tr>\n",
       "      <th>241</th>\n",
       "      <td>22.67</td>\n",
       "      <td>2.00</td>\n",
       "      <td>Male</td>\n",
       "      <td>Yes</td>\n",
       "      <td>Sat</td>\n",
       "      <td>Dinner</td>\n",
       "      <td>2</td>\n",
       "    </tr>\n",
       "    <tr>\n",
       "      <th>242</th>\n",
       "      <td>17.82</td>\n",
       "      <td>1.75</td>\n",
       "      <td>Male</td>\n",
       "      <td>No</td>\n",
       "      <td>Sat</td>\n",
       "      <td>Dinner</td>\n",
       "      <td>2</td>\n",
       "    </tr>\n",
       "    <tr>\n",
       "      <th>243</th>\n",
       "      <td>18.78</td>\n",
       "      <td>3.00</td>\n",
       "      <td>Female</td>\n",
       "      <td>No</td>\n",
       "      <td>Thur</td>\n",
       "      <td>Dinner</td>\n",
       "      <td>2</td>\n",
       "    </tr>\n",
       "  </tbody>\n",
       "</table>\n",
       "<p>244 rows × 7 columns</p>\n",
       "</div>"
      ],
      "text/plain": [
       "     total_bill   tip     sex smoker   day    time  size\n",
       "0         16.99  1.01  Female     No   Sun  Dinner     2\n",
       "1         10.34  1.66    Male     No   Sun  Dinner     3\n",
       "2         21.01  3.50    Male     No   Sun  Dinner     3\n",
       "3         23.68  3.31    Male     No   Sun  Dinner     2\n",
       "4         24.59  3.61  Female     No   Sun  Dinner     4\n",
       "..          ...   ...     ...    ...   ...     ...   ...\n",
       "239       29.03  5.92    Male     No   Sat  Dinner     3\n",
       "240       27.18  2.00  Female    Yes   Sat  Dinner     2\n",
       "241       22.67  2.00    Male    Yes   Sat  Dinner     2\n",
       "242       17.82  1.75    Male     No   Sat  Dinner     2\n",
       "243       18.78  3.00  Female     No  Thur  Dinner     2\n",
       "\n",
       "[244 rows x 7 columns]"
      ]
     },
     "execution_count": 4,
     "metadata": {},
     "output_type": "execute_result"
    }
   ],
   "source": [
    "tips=sns.load_dataset('tips')\n",
    "tips"
   ]
  },
  {
   "cell_type": "code",
   "execution_count": 8,
   "id": "4c1eae97-af2d-4147-8f2a-68340bb96284",
   "metadata": {},
   "outputs": [
    {
     "data": {
      "text/plain": [
       "19.78594262295082"
      ]
     },
     "execution_count": 8,
     "metadata": {},
     "output_type": "execute_result"
    }
   ],
   "source": [
    "import numpy as np\n",
    "np.mean(tips['total_bill'])\n"
   ]
  },
  {
   "cell_type": "code",
   "execution_count": null,
   "id": "82cf5786-0c0e-4260-807d-5bd5e3fc228b",
   "metadata": {},
   "outputs": [],
   "source": []
  }
 ],
 "metadata": {
  "kernelspec": {
   "display_name": "Python 3 (ipykernel)",
   "language": "python",
   "name": "python3"
  },
  "language_info": {
   "codemirror_mode": {
    "name": "ipython",
    "version": 3
   },
   "file_extension": ".py",
   "mimetype": "text/x-python",
   "name": "python",
   "nbconvert_exporter": "python",
   "pygments_lexer": "ipython3",
   "version": "3.10.8"
  }
 },
 "nbformat": 4,
 "nbformat_minor": 5
}
