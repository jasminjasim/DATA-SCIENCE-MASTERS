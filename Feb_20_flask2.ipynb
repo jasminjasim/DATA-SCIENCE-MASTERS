{
 "cells": [
  {
   "cell_type": "markdown",
   "id": "578836ef-3e26-40d7-93dd-31f62a3407b8",
   "metadata": {},
   "source": [
    "# Explain GET and POST methods."
   ]
  },
  {
   "cell_type": "code",
   "execution_count": 1,
   "id": "68210596-f41d-423b-8c38-1412c530fc43",
   "metadata": {},
   "outputs": [],
   "source": [
    "# Get and post methods are used to get the get the values.Get is pasing the value\n",
    "# through url ,it is visible to everyone .But post methods are used to get the datas in a \n",
    "# secure way."
   ]
  },
  {
   "cell_type": "markdown",
   "id": "2a23e9ff-b01d-4b4c-9fdf-80818f7fcbe1",
   "metadata": {},
   "source": [
    "# Why is request used in Flask?"
   ]
  },
  {
   "cell_type": "code",
   "execution_count": 2,
   "id": "71dbb018-6bd1-4d84-b60a-ea51396db00d",
   "metadata": {},
   "outputs": [],
   "source": [
    "# request is used to get the datas from url,form,json etc"
   ]
  },
  {
   "cell_type": "markdown",
   "id": "97812c2f-919a-4ada-b9fa-c7bd1f764938",
   "metadata": {},
   "source": [
    "# Why is redirect() used in Flask?"
   ]
  },
  {
   "cell_type": "code",
   "execution_count": 3,
   "id": "a83738b8-faad-4ec2-81a4-a48f09b8c387",
   "metadata": {},
   "outputs": [],
   "source": [
    "# redirect function is used to redirect to specific url"
   ]
  },
  {
   "cell_type": "markdown",
   "id": "b2ff01ec-b8ce-45f5-9d71-6a3caeb6dbd3",
   "metadata": {},
   "source": [
    "# What are templates in Flask? Why is the render_template() function used?"
   ]
  },
  {
   "cell_type": "code",
   "execution_count": 4,
   "id": "77e4d1ae-ce32-481f-8f1d-6e7642bdd4c6",
   "metadata": {},
   "outputs": [],
   "source": [
    "# Templates are the files that contains both static data and dynamic data that contains \n",
    "# some place holders.render_template is using to render the static data and dynamic data's \n",
    "# placeholders with the result that carried out by other action of an htlm page"
   ]
  },
  {
   "cell_type": "markdown",
   "id": "3924074c-1d95-496d-8584-9344b0ff2d6b",
   "metadata": {},
   "source": [
    "# Create a simple API. Use Postman to test it. \n",
    "# Attach the screenshot of the output in the Jupyter Notebook."
   ]
  },
  {
   "cell_type": "code",
   "execution_count": null,
   "id": "85742672-7cc5-4845-8d20-7dd3ccb5ebcf",
   "metadata": {},
   "outputs": [],
   "source": []
  }
 ],
 "metadata": {
  "kernelspec": {
   "display_name": "Python 3 (ipykernel)",
   "language": "python",
   "name": "python3"
  },
  "language_info": {
   "codemirror_mode": {
    "name": "ipython",
    "version": 3
   },
   "file_extension": ".py",
   "mimetype": "text/x-python",
   "name": "python",
   "nbconvert_exporter": "python",
   "pygments_lexer": "ipython3",
   "version": "3.10.8"
  }
 },
 "nbformat": 4,
 "nbformat_minor": 5
}
