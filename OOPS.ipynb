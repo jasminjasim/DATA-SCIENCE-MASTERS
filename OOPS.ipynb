{
 "cells": [
  {
   "cell_type": "code",
   "execution_count": 1,
   "id": "230696d5-f3c8-41ea-b875-fc26f3ff8cb8",
   "metadata": {},
   "outputs": [],
   "source": [
    "class Family:\n",
    "    def welcome_msg(self):\n",
    "        print(\"welcome to Family\")"
   ]
  },
  {
   "cell_type": "code",
   "execution_count": 2,
   "id": "05ce7f9c-b219-4db5-b107-747cc0c9b8d2",
   "metadata": {},
   "outputs": [],
   "source": [
    "jasmin=Family()"
   ]
  },
  {
   "cell_type": "code",
   "execution_count": 3,
   "id": "8e1585ea-70ac-414b-bfcd-5af7dbe3a7f5",
   "metadata": {},
   "outputs": [
    {
     "name": "stdout",
     "output_type": "stream",
     "text": [
      "welcome to Family\n"
     ]
    }
   ],
   "source": [
    "jasmin.welcome_msg()"
   ]
  },
  {
   "cell_type": "code",
   "execution_count": 4,
   "id": "66f483a4-c40c-45c6-bd90-9441e31b5d96",
   "metadata": {},
   "outputs": [],
   "source": [
    "class Stud_details:\n",
    "    \n",
    "    def __init__(self,phone_num,email_id,stud_id):\n",
    "        \n",
    "        self.phone_number=phone_num\n",
    "        self.email=email_id\n",
    "        self.studid=stud_id\n",
    "        \n",
    "    def print_stud_details(self):\n",
    "        return( self.phone_number,self.email,self.studid)"
   ]
  },
  {
   "cell_type": "code",
   "execution_count": 8,
   "id": "18f0b4d8-0258-49fd-9ffe-9e73910e5d42",
   "metadata": {},
   "outputs": [],
   "source": [
    "jasim=Stud_details(125145254,'jas@gmail.com',123)"
   ]
  },
  {
   "cell_type": "code",
   "execution_count": 9,
   "id": "37e8d636-5437-40c5-93f3-84c30ea67bca",
   "metadata": {},
   "outputs": [
    {
     "data": {
      "text/plain": [
       "(125145254, 'jas@gmail.com', 123)"
      ]
     },
     "execution_count": 9,
     "metadata": {},
     "output_type": "execute_result"
    }
   ],
   "source": [
    "jasim.print_stud_details()"
   ]
  },
  {
   "cell_type": "code",
   "execution_count": 10,
   "id": "7fbea3ed-2046-4df6-a565-7b77180b3507",
   "metadata": {},
   "outputs": [
    {
     "data": {
      "text/plain": [
       "125145254"
      ]
     },
     "execution_count": 10,
     "metadata": {},
     "output_type": "execute_result"
    }
   ],
   "source": [
    "jasim.phone_number"
   ]
  },
  {
   "cell_type": "code",
   "execution_count": 11,
   "id": "81605a0a-cb25-436a-a0ba-4c0c8de8500c",
   "metadata": {},
   "outputs": [
    {
     "data": {
      "text/plain": [
       "'jas@gmail.com'"
      ]
     },
     "execution_count": 11,
     "metadata": {},
     "output_type": "execute_result"
    }
   ],
   "source": [
    "jasim.email"
   ]
  },
  {
   "cell_type": "code",
   "execution_count": null,
   "id": "c32bbdf5-b648-4c66-908e-8b5db63837fa",
   "metadata": {},
   "outputs": [],
   "source": []
  }
 ],
 "metadata": {
  "kernelspec": {
   "display_name": "Python 3 (ipykernel)",
   "language": "python",
   "name": "python3"
  },
  "language_info": {
   "codemirror_mode": {
    "name": "ipython",
    "version": 3
   },
   "file_extension": ".py",
   "mimetype": "text/x-python",
   "name": "python",
   "nbconvert_exporter": "python",
   "pygments_lexer": "ipython3",
   "version": "3.10.8"
  }
 },
 "nbformat": 4,
 "nbformat_minor": 5
}
