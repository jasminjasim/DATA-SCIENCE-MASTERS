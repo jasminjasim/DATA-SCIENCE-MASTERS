{
 "cells": [
  {
   "cell_type": "markdown",
   "id": "7bd70e7c-e364-497d-ae46-a86ec6b3a6a9",
   "metadata": {},
   "source": [
    "#  What are the characteristics of the tuples? Is tuple immutable?"
   ]
  },
  {
   "cell_type": "code",
   "execution_count": 3,
   "id": "3eb3e84b-38bd-481e-85d0-b8050e48328d",
   "metadata": {},
   "outputs": [
    {
     "name": "stdout",
     "output_type": "stream",
     "text": [
      "(1, 2, 3, 4, 1, 2, 3)\n"
     ]
    }
   ],
   "source": [
    "#Tuples are used to store data.Yes,it is immutable\n",
    "#we cannot reassign any values in the tuple using index\n",
    "#eg:\n",
    "Tuple=(1,2,3,4,1,2,3) \n",
    "print(Tuple)"
   ]
  },
  {
   "cell_type": "code",
   "execution_count": 5,
   "id": "cb3a9e19-d021-4536-9a88-b3ba7906550d",
   "metadata": {},
   "outputs": [
    {
     "ename": "TypeError",
     "evalue": "'tuple' object does not support item assignment",
     "output_type": "error",
     "traceback": [
      "\u001b[0;31m---------------------------------------------------------------------------\u001b[0m",
      "\u001b[0;31mTypeError\u001b[0m                                 Traceback (most recent call last)",
      "Cell \u001b[0;32mIn[5], line 1\u001b[0m\n\u001b[0;32m----> 1\u001b[0m \u001b[43mTuple\u001b[49m\u001b[43m[\u001b[49m\u001b[38;5;241;43m0\u001b[39;49m\u001b[43m]\u001b[49m\u001b[38;5;241m=\u001b[39m\u001b[38;5;241m10\u001b[39m\n\u001b[1;32m      2\u001b[0m \u001b[38;5;28mlist\u001b[39m\u001b[38;5;241m=\u001b[39m[\u001b[38;5;241m1\u001b[39m,\u001b[38;5;241m2\u001b[39m,\u001b[38;5;241m3\u001b[39m,\u001b[38;5;241m4\u001b[39m,\u001b[38;5;241m1\u001b[39m,\u001b[38;5;241m2\u001b[39m,\u001b[38;5;241m3\u001b[39m]\n",
      "\u001b[0;31mTypeError\u001b[0m: 'tuple' object does not support item assignment"
     ]
    }
   ],
   "source": [
    "Tuple[0]=10\n"
   ]
  },
  {
   "cell_type": "code",
   "execution_count": 6,
   "id": "5423abe1-6abc-4cda-95f6-c6bdf8323473",
   "metadata": {},
   "outputs": [],
   "source": [
    "# comaprison with list\n",
    "list=[1,2,3,4,1,2,3]"
   ]
  },
  {
   "cell_type": "code",
   "execution_count": 7,
   "id": "e3b8ed51-4426-4fae-84d9-731c54f1435f",
   "metadata": {},
   "outputs": [],
   "source": [
    "list[0]=100"
   ]
  },
  {
   "cell_type": "code",
   "execution_count": 8,
   "id": "ca56e536-2734-4f7c-ac67-b514f9a454ac",
   "metadata": {},
   "outputs": [
    {
     "data": {
      "text/plain": [
       "[100, 2, 3, 4, 1, 2, 3]"
      ]
     },
     "execution_count": 8,
     "metadata": {},
     "output_type": "execute_result"
    }
   ],
   "source": [
    "list"
   ]
  },
  {
   "cell_type": "markdown",
   "id": "5e203aaa-1e4c-4c32-bb38-12245cbcfbb6",
   "metadata": {},
   "source": [
    "#  What are the two tuple methods in python? Give an example of each method. Give a reason why tuples have only two in-built methods as compared to Lists."
   ]
  },
  {
   "cell_type": "code",
   "execution_count": 9,
   "id": "ab0fa5d4-72b0-423b-be64-dd7455013314",
   "metadata": {},
   "outputs": [],
   "source": [
    "# Only 2 methods for tuple.They are count and Index.Tuple is immutable when compared with list.this mi9ght be the reason for only having two methods"
   ]
  },
  {
   "cell_type": "code",
   "execution_count": 12,
   "id": "049ffb7a-1e11-4493-82db-8d83f4e04201",
   "metadata": {},
   "outputs": [
    {
     "data": {
      "text/plain": [
       "2"
      ]
     },
     "execution_count": 12,
     "metadata": {},
     "output_type": "execute_result"
    }
   ],
   "source": [
    "# eg:\n",
    "Tuple.count(1)\n",
    "    "
   ]
  },
  {
   "cell_type": "code",
   "execution_count": 18,
   "id": "17cab507-0dab-4ef0-b351-ff9ade6be635",
   "metadata": {},
   "outputs": [
    {
     "name": "stdout",
     "output_type": "stream",
     "text": [
      "(1, 2, 3, 4, 1, 2, 3)\n"
     ]
    },
    {
     "data": {
      "text/plain": [
       "1"
      ]
     },
     "execution_count": 18,
     "metadata": {},
     "output_type": "execute_result"
    }
   ],
   "source": [
    "print(Tuple)\n",
    "Tuple.index(2)# index of 2 is 1"
   ]
  },
  {
   "cell_type": "markdown",
   "id": "0b7e433a-d3b7-4fd8-983d-f0ad3796f33b",
   "metadata": {},
   "source": [
    "# Which collection datatypes in python do not allow duplicate items? Write a code using a set to remove duplicates from the given list."
   ]
  },
  {
   "cell_type": "code",
   "execution_count": 19,
   "id": "d4e837d4-fb1e-4edd-87a9-14bdc3dd86b6",
   "metadata": {},
   "outputs": [],
   "source": [
    "# Set is the collection that do not allow duplicates\n",
    "a={1,2,3,1,2,3}"
   ]
  },
  {
   "cell_type": "code",
   "execution_count": 20,
   "id": "84c61a7e-22b5-41af-9206-c1eb0743d3e6",
   "metadata": {},
   "outputs": [
    {
     "data": {
      "text/plain": [
       "{1, 2, 3}"
      ]
     },
     "execution_count": 20,
     "metadata": {},
     "output_type": "execute_result"
    }
   ],
   "source": [
    "a"
   ]
  },
  {
   "cell_type": "code",
   "execution_count": 21,
   "id": "45bc1c50-90a3-4ce4-9b66-972e017e420b",
   "metadata": {},
   "outputs": [],
   "source": [
    "List = [1, 1, 1, 2, 1, 3, 1, 4, 2, 1, 2, 2, 2, 3, 2, 4, 3, 1, 3, 2, 3, 3, 3, 4, 4, 1, 4, 2, 4, 3, 4, 4]"
   ]
  },
  {
   "cell_type": "code",
   "execution_count": 22,
   "id": "a0ca5b95-a8f6-4677-a46d-570429d82c0d",
   "metadata": {},
   "outputs": [
    {
     "data": {
      "text/plain": [
       "{1, 2, 3, 4}"
      ]
     },
     "execution_count": 22,
     "metadata": {},
     "output_type": "execute_result"
    }
   ],
   "source": [
    "set(List)"
   ]
  },
  {
   "cell_type": "markdown",
   "id": "08298e79-5f37-4fab-ae26-40ad301cddae",
   "metadata": {},
   "source": [
    "# Q4. Explain the difference between the union() and update() methods for a set. Give an example of each method."
   ]
  },
  {
   "cell_type": "code",
   "execution_count": 23,
   "id": "739639e5-6a35-4edb-94c9-357dfc38c503",
   "metadata": {},
   "outputs": [],
   "source": [
    "Set1={1,2,3,4}\n",
    "Set2={10,11,12}"
   ]
  },
  {
   "cell_type": "code",
   "execution_count": 24,
   "id": "aae4d219-1ca8-43ee-ba8b-f1218ef3f26a",
   "metadata": {},
   "outputs": [
    {
     "data": {
      "text/plain": [
       "{1, 2, 3, 4, 10, 11, 12}"
      ]
     },
     "execution_count": 24,
     "metadata": {},
     "output_type": "execute_result"
    }
   ],
   "source": [
    "Set1.union(Set2)"
   ]
  },
  {
   "cell_type": "code",
   "execution_count": 29,
   "id": "c058213c-21a4-4fa4-a4de-308b5efea43d",
   "metadata": {},
   "outputs": [
    {
     "data": {
      "text/plain": [
       "{1, 2, 3, 4, 10, 11, 12, 567, 989}"
      ]
     },
     "execution_count": 29,
     "metadata": {},
     "output_type": "execute_result"
    }
   ],
   "source": [
    "Set1.update(Set2)\n",
    "Set1\n",
    "Set1.update({989,567})\n",
    "Set1\n"
   ]
  },
  {
   "cell_type": "code",
   "execution_count": 31,
   "id": "d6080517-75da-4ea4-9ac6-cef4d71bd2fb",
   "metadata": {},
   "outputs": [],
   "source": [
    "# Update method:\n",
    "#Updates the set with given datas\n",
    "# Union method\n",
    "#Union method combines two sets to form a new"
   ]
  },
  {
   "cell_type": "markdown",
   "id": "a5e4ca9b-190e-4e07-a764-54b5940efac3",
   "metadata": {},
   "source": [
    "# Q5 What is a dictionary? Give an example. Also, state whether a dictionary is ordered or unordered."
   ]
  },
  {
   "cell_type": "code",
   "execution_count": 48,
   "id": "76ddd0b4-e83c-4928-be57-7ba0359b7c20",
   "metadata": {},
   "outputs": [],
   "source": [
    "#A dictionary is a key value pair of data.we can store key and its corresponding value.\n",
    "dict1={'a':123, 'b':'jasmin'}"
   ]
  },
  {
   "cell_type": "code",
   "execution_count": 49,
   "id": "d488a9e8-2b47-4fd7-b0da-bc9f2affcc2d",
   "metadata": {},
   "outputs": [
    {
     "data": {
      "text/plain": [
       "dict_keys(['a', 'b'])"
      ]
     },
     "execution_count": 49,
     "metadata": {},
     "output_type": "execute_result"
    }
   ],
   "source": [
    "dict1.keys()"
   ]
  },
  {
   "cell_type": "code",
   "execution_count": 51,
   "id": "672d0e62-80c2-4bde-a1be-e384ec5a16ef",
   "metadata": {},
   "outputs": [
    {
     "data": {
      "text/plain": [
       "dict_values([123, 'jasmin'])"
      ]
     },
     "execution_count": 51,
     "metadata": {},
     "output_type": "execute_result"
    }
   ],
   "source": [
    "dict1.values()"
   ]
  },
  {
   "cell_type": "markdown",
   "id": "7432b363-f946-492a-bb9f-f735f6760f81",
   "metadata": {},
   "source": [
    "# Q6. Can we create a nested dictionary? If so, please give an example by creating a simple one-level nested dictionary."
   ]
  },
  {
   "cell_type": "code",
   "execution_count": 52,
   "id": "d4086b97-f65f-421d-9317-4b9daf2d5d0f",
   "metadata": {},
   "outputs": [],
   "source": [
    "#Yes ,we can create a nested dictionary,Here is an examaple\n",
    "dict2={'class':'MCA','year':2021,'students':{1:'abina',2:'Adharsh'}}"
   ]
  },
  {
   "cell_type": "code",
   "execution_count": 54,
   "id": "204e9244-b073-4f11-8cfc-038152680317",
   "metadata": {},
   "outputs": [
    {
     "data": {
      "text/plain": [
       "dict_keys(['class', 'year', 'students'])"
      ]
     },
     "execution_count": 54,
     "metadata": {},
     "output_type": "execute_result"
    }
   ],
   "source": [
    "dict2.keys()"
   ]
  },
  {
   "cell_type": "code",
   "execution_count": 55,
   "id": "0f0b6eaa-4284-4f7b-8254-7a332c8dd230",
   "metadata": {},
   "outputs": [
    {
     "data": {
      "text/plain": [
       "dict_values(['MCA', 2021, {1: 'abina', 2: 'Adharsh'}])"
      ]
     },
     "execution_count": 55,
     "metadata": {},
     "output_type": "execute_result"
    }
   ],
   "source": [
    "dict2.values()"
   ]
  },
  {
   "cell_type": "code",
   "execution_count": 63,
   "id": "689762e1-6368-4338-8e59-e4e2c0b95ad8",
   "metadata": {},
   "outputs": [
    {
     "data": {
      "text/plain": [
       "{1: 'abina', 2: 'Adharsh'}"
      ]
     },
     "execution_count": 63,
     "metadata": {},
     "output_type": "execute_result"
    }
   ],
   "source": [
    "dict2.get('students')"
   ]
  },
  {
   "cell_type": "code",
   "execution_count": 65,
   "id": "0f44103b-f642-4ba5-8e0a-5d567db9b2be",
   "metadata": {},
   "outputs": [
    {
     "name": "stdout",
     "output_type": "stream",
     "text": [
      "abina\n"
     ]
    }
   ],
   "source": [
    "print(dict2['students'][1])"
   ]
  },
  {
   "cell_type": "markdown",
   "id": "ec8264f1-0658-447a-9c7c-3eb57edd1269",
   "metadata": {},
   "source": [
    "# Q7. Using setdefault() method, create key named topics in the given dictionary and also add the value of the key as this list ['Python', 'Machine Learning’, 'Deep Learning']"
   ]
  },
  {
   "cell_type": "code",
   "execution_count": 67,
   "id": "df3ec251-86ba-4665-a5df-8ba4e3e79abe",
   "metadata": {},
   "outputs": [],
   "source": [
    "dict1 = {'language' : 'Python', 'course': 'Data Science Masters'}"
   ]
  },
  {
   "cell_type": "code",
   "execution_count": 71,
   "id": "8d4967a8-e6da-4489-9e7c-79c35aec5aab",
   "metadata": {},
   "outputs": [],
   "source": [
    "Topic=dict1.setdefault('Topic',['Python','machine learning','Deep Learning'])\n"
   ]
  },
  {
   "cell_type": "code",
   "execution_count": 72,
   "id": "bc3eb71f-af6d-472b-bc07-ea0d53613410",
   "metadata": {},
   "outputs": [],
   "source": [
    "dict1['Topic']=['Python','machine learning','Deep Learning']"
   ]
  },
  {
   "cell_type": "code",
   "execution_count": 73,
   "id": "35b49cbc-f601-4128-9fe4-1122419a6a33",
   "metadata": {},
   "outputs": [
    {
     "data": {
      "text/plain": [
       "{'language': 'Python',\n",
       " 'course': 'Data Science Masters',\n",
       " 'Topic': ['Python', 'machine learning', 'Deep Learning']}"
      ]
     },
     "execution_count": 73,
     "metadata": {},
     "output_type": "execute_result"
    }
   ],
   "source": [
    "dict1"
   ]
  },
  {
   "cell_type": "markdown",
   "id": "51e85351-b125-483b-851e-d3ac3137a25d",
   "metadata": {},
   "source": [
    "# Q8. What are the three view objects in dictionaries? Use the three in-built methods in python to display these three view objects for the given dictionary.\n",
    "\n",
    "* dict1 = {'Sport': 'Cricket' , 'Teams': ['India', 'Australia', 'England', 'South Africa', 'Sri Lanka', 'New Zealand']}"
   ]
  },
  {
   "cell_type": "code",
   "execution_count": 75,
   "id": "8c58e952-eea2-4c1e-a01f-8fde7b8aeef0",
   "metadata": {},
   "outputs": [],
   "source": [
    "#  keys, values and items.\n",
    "dict1 = {'Sport': 'Cricket' , 'Teams': ['India', 'Australia', 'England', 'South Africa', 'Sri Lanka', 'New Zealand']}"
   ]
  },
  {
   "cell_type": "code",
   "execution_count": 76,
   "id": "e355089f-6d90-4074-a2bf-1a8208287b95",
   "metadata": {},
   "outputs": [
    {
     "data": {
      "text/plain": [
       "dict_keys(['Sport', 'Teams'])"
      ]
     },
     "execution_count": 76,
     "metadata": {},
     "output_type": "execute_result"
    }
   ],
   "source": [
    "dict1.keys()"
   ]
  },
  {
   "cell_type": "code",
   "execution_count": 77,
   "id": "71e68dae-7d60-4ac5-a8a7-dc1a0e3aaa4c",
   "metadata": {},
   "outputs": [
    {
     "data": {
      "text/plain": [
       "dict_values(['Cricket', ['India', 'Australia', 'England', 'South Africa', 'Sri Lanka', 'New Zealand']])"
      ]
     },
     "execution_count": 77,
     "metadata": {},
     "output_type": "execute_result"
    }
   ],
   "source": [
    "dict1.values()"
   ]
  },
  {
   "cell_type": "code",
   "execution_count": 79,
   "id": "d5465341-5af3-4390-a466-9c2f17dd4b0c",
   "metadata": {},
   "outputs": [
    {
     "data": {
      "text/plain": [
       "dict_items([('Sport', 'Cricket'), ('Teams', ['India', 'Australia', 'England', 'South Africa', 'Sri Lanka', 'New Zealand'])])"
      ]
     },
     "execution_count": 79,
     "metadata": {},
     "output_type": "execute_result"
    }
   ],
   "source": [
    "dict1.items()"
   ]
  },
  {
   "cell_type": "code",
   "execution_count": null,
   "id": "7b7c018a-2698-4812-a7fb-b199b2a71a68",
   "metadata": {},
   "outputs": [],
   "source": []
  }
 ],
 "metadata": {
  "kernelspec": {
   "display_name": "Python 3 (ipykernel)",
   "language": "python",
   "name": "python3"
  },
  "language_info": {
   "codemirror_mode": {
    "name": "ipython",
    "version": 3
   },
   "file_extension": ".py",
   "mimetype": "text/x-python",
   "name": "python",
   "nbconvert_exporter": "python",
   "pygments_lexer": "ipython3",
   "version": "3.10.8"
  }
 },
 "nbformat": 4,
 "nbformat_minor": 5
}
