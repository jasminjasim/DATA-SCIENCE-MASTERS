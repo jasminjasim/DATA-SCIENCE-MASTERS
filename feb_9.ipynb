{
  "nbformat": 4,
  "nbformat_minor": 0,
  "metadata": {
    "colab": {
      "provenance": []
    },
    "kernelspec": {
      "name": "python3",
      "display_name": "Python 3"
    },
    "language_info": {
      "name": "python"
    }
  },
  "cells": [
    {
      "cell_type": "code",
      "execution_count": null,
      "metadata": {
        "id": "hFiFPctIxGGq"
      },
      "outputs": [],
      "source": [
        "# Q1, Create a vehicle class with an init method having instance variables as name_of_vehicle, max_speed and average_of_vehicle."
      ]
    },
    {
      "cell_type": "markdown",
      "source": [],
      "metadata": {
        "id": "qIuGIZymxOlL"
      }
    },
    {
      "cell_type": "code",
      "source": [
        "class vehicle:\n",
        "  def __init__(self,name_of_vehicle,max_speed,average_of_vehicle):\n",
        "    self.name_of_vehicle=name_of_vehicle\n",
        "    self.max_speed=max_speed\n",
        "    self.average_of_vehicle=average_of_vehicle\n",
        "    \n"
      ],
      "metadata": {
        "id": "61AdHhHGxUHa"
      },
      "execution_count": 1,
      "outputs": []
    },
    {
      "cell_type": "code",
      "source": [
        "# Q2. Create a child class car from the vehicle class created in Que 1, which will inherit the vehicle class.\n",
        "# Create a method named seating_capacity which takes capacity as an argument and returns the name of\n",
        "# the vehicle and its seating capacity."
      ],
      "metadata": {
        "id": "cD_hy137x6jh"
      },
      "execution_count": 2,
      "outputs": []
    },
    {
      "cell_type": "code",
      "source": [
        "class car(vehicle):\n",
        " \n",
        "  def seating_capacity(self,capacity):\n",
        "    self.capacity=capacity\n",
        "    \n",
        "    return self.capacity,self.name_of_vehicle"
      ],
      "metadata": {
        "id": "3dfT16HAyFtv"
      },
      "execution_count": 3,
      "outputs": []
    },
    {
      "cell_type": "code",
      "source": [
        "red_car=car(\"hyundai\",111,12)"
      ],
      "metadata": {
        "id": "q_TR9ScAzNoL"
      },
      "execution_count": 4,
      "outputs": []
    },
    {
      "cell_type": "code",
      "source": [
        "red_car.seating_capacity(7)"
      ],
      "metadata": {
        "id": "eNmczKdl0FKZ",
        "colab": {
          "base_uri": "https://localhost:8080/"
        },
        "outputId": "4c17b9fa-83f4-47ef-fa4a-432c102b2775"
      },
      "execution_count": 5,
      "outputs": [
        {
          "output_type": "execute_result",
          "data": {
            "text/plain": [
              "(7, 'hyundai')"
            ]
          },
          "metadata": {},
          "execution_count": 5
        }
      ]
    },
    {
      "cell_type": "code",
      "source": [
        "# Q3. What is multiple inheritance? Write a python code to demonstrate multiple inheritance."
      ],
      "metadata": {
        "id": "U1EZI3BvTYT5"
      },
      "execution_count": 6,
      "outputs": []
    },
    {
      "cell_type": "code",
      "source": [
        "# inheriting the features from two different classes\n",
        "class publisher:\n",
        "  def __init__(self,publisher_name):\n",
        "    self.publisher_name=publisher_name\n",
        "\n"
      ],
      "metadata": {
        "id": "swtDO5u2TeIr"
      },
      "execution_count": 7,
      "outputs": []
    },
    {
      "cell_type": "code",
      "source": [
        "class book:\n",
        "  def __init__(self,book_name,book_author,year):\n",
        "    self.book_name=book_name\n",
        "    self.book_author=book_author\n",
        "    self.year=year\n",
        "\n",
        "  def payment(self,amount):\n",
        "    self.amount=amount\n",
        "    print(\"please pay the amount\")"
      ],
      "metadata": {
        "id": "6TcnzcvXUXSC"
      },
      "execution_count": 8,
      "outputs": []
    },
    {
      "cell_type": "code",
      "source": [
        "class sale(publisher, book):  \n",
        "  def get_details(self,book_shop):\n",
        "    self.book_shop=book_shop\n",
        "    return self.publisher_name,self.book_name,self.book_author,self.year,self.amount,self.book_shop\n",
        "    "
      ],
      "metadata": {
        "id": "nQ2tXX2QVLcJ"
      },
      "execution_count": 51,
      "outputs": []
    },
    {
      "cell_type": "code",
      "source": [
        "publisher1=publisher(\"DC books\")\n",
        "book1=book(\"gitanjali\",'rabindrnath tagore',1980)\n",
        "book1.payment(599)"
      ],
      "metadata": {
        "colab": {
          "base_uri": "https://localhost:8080/"
        },
        "id": "lSiayykgXTMb",
        "outputId": "c583d433-d1b4-43a8-8683-3b05387f9ee0"
      },
      "execution_count": 52,
      "outputs": [
        {
          "output_type": "stream",
          "name": "stdout",
          "text": [
            "please pay the amount\n"
          ]
        }
      ]
    },
    {
      "cell_type": "code",
      "source": [
        "new_sale=sale('hjj' ) "
      ],
      "metadata": {
        "id": "64efQCUbYHtP"
      },
      "execution_count": 53,
      "outputs": []
    },
    {
      "cell_type": "code",
      "source": [
        "publisher1.publisher_name"
      ],
      "metadata": {
        "id": "YCd_0_-IZbYt",
        "colab": {
          "base_uri": "https://localhost:8080/",
          "height": 36
        },
        "outputId": "27936347-048a-4d6a-fc0b-849dced8959f"
      },
      "execution_count": 54,
      "outputs": [
        {
          "output_type": "execute_result",
          "data": {
            "text/plain": [
              "'DC books'"
            ],
            "application/vnd.google.colaboratory.intrinsic+json": {
              "type": "string"
            }
          },
          "metadata": {},
          "execution_count": 54
        }
      ]
    },
    {
      "cell_type": "code",
      "source": [
        "book1.book_name\n"
      ],
      "metadata": {
        "colab": {
          "base_uri": "https://localhost:8080/",
          "height": 36
        },
        "id": "kVDMRhaZgF6-",
        "outputId": "f25c1393-9e38-4435-b3ba-7596dbee8d46"
      },
      "execution_count": 55,
      "outputs": [
        {
          "output_type": "execute_result",
          "data": {
            "text/plain": [
              "'gitanjali'"
            ],
            "application/vnd.google.colaboratory.intrinsic+json": {
              "type": "string"
            }
          },
          "metadata": {},
          "execution_count": 55
        }
      ]
    },
    {
      "cell_type": "code",
      "source": [
        "# What are getter and setter in python? Create a class and create a getter and a setter method in this class"
      ],
      "metadata": {
        "id": "nXiXxzZBhbhK"
      },
      "execution_count": 56,
      "outputs": []
    },
    {
      "cell_type": "code",
      "source": [
        "#getter and setter method is used to access and modify the varibles that are protected or private\n",
        "class Bank:\n",
        "  def __init__(self,current_balance):\n",
        "    self.__current_balance= current_balance\n",
        "\n",
        "\n",
        "# a getter function\n",
        "  @property\n",
        "  def current_balance_access(self):\n",
        "    print(\"getter\")\n",
        "    return self.__current_balance\n",
        "\n",
        "# a setter function\n",
        "  @current_balance_access.setter\n",
        "  def current_balance_access(self,cu_balance):\n",
        "    print(\"setter\")\n",
        "    if cu_balance<1000:\n",
        "      self.__current_balance = 1000\n",
        "    else: \n",
        "      self.__current_balance = cu_balance  \n",
        "\n",
        "\n"
      ],
      "metadata": {
        "id": "ULaplprSi-ua"
      },
      "execution_count": 126,
      "outputs": []
    },
    {
      "cell_type": "code",
      "source": [
        "bank1=Bank(5000)"
      ],
      "metadata": {
        "id": "_PNXIVhVlrRd"
      },
      "execution_count": 127,
      "outputs": []
    },
    {
      "cell_type": "code",
      "source": [
        "print(bank1.current_balance_access)\n",
        "bank1.current_balance_access=6000\n",
        "print(bank1.current_balance_access)"
      ],
      "metadata": {
        "colab": {
          "base_uri": "https://localhost:8080/"
        },
        "id": "eX4Sywy3ouEG",
        "outputId": "9b44a745-07f8-4eed-a9d4-d4f0dfe28a59"
      },
      "execution_count": 129,
      "outputs": [
        {
          "output_type": "stream",
          "name": "stdout",
          "text": [
            "getter\n",
            "1000\n",
            "setter\n",
            "getter\n",
            "6000\n"
          ]
        }
      ]
    },
    {
      "cell_type": "code",
      "source": [
        "#Q5.What is method overriding in python? Write a python code to demonstrate method overriding."
      ],
      "metadata": {
        "id": "V_CbE6tf6h_K"
      },
      "execution_count": 130,
      "outputs": []
    },
    {
      "cell_type": "code",
      "source": [
        "#method overriding is nearly related to inheritance.a base class property can overridden by child class property"
      ],
      "metadata": {
        "id": "IjV60b2t7hQl"
      },
      "execution_count": 131,
      "outputs": []
    },
    {
      "cell_type": "code",
      "source": [
        "class parent:\n",
        "  print(\"i am a parent,working for my family\")\n",
        "  \n",
        "  def job(self):\n",
        "    print(\"Job is teaching\")\n",
        "  \n",
        "  def members(self):\n",
        "    print(\"we are a joint family\")\n",
        "\n",
        "  \n"
      ],
      "metadata": {
        "colab": {
          "base_uri": "https://localhost:8080/"
        },
        "id": "YgibRRAM9XVO",
        "outputId": "10e67050-1ba2-4fab-b08a-e711cafc3057"
      },
      "execution_count": 140,
      "outputs": [
        {
          "output_type": "stream",
          "name": "stdout",
          "text": [
            "i am a parent,working for my family\n"
          ]
        }
      ]
    },
    {
      "cell_type": "code",
      "source": [
        "class child(parent):\n",
        "  print(\"I am a child,studying to achieve my goal\")\n",
        "\n",
        "  def job(self):\n",
        "    print(\"My dream job to become a successful,self satisfied with helping mentality\")\n"
      ],
      "metadata": {
        "colab": {
          "base_uri": "https://localhost:8080/"
        },
        "id": "1gxNQv6b9tjs",
        "outputId": "449147d7-63e8-43f6-f27e-1352f89b572b"
      },
      "execution_count": 141,
      "outputs": [
        {
          "output_type": "stream",
          "name": "stdout",
          "text": [
            "I am a child,studying to achieve my goal\n"
          ]
        }
      ]
    },
    {
      "cell_type": "code",
      "source": [
        "child1=child()"
      ],
      "metadata": {
        "id": "J5z5pXVl-Kmi"
      },
      "execution_count": 142,
      "outputs": []
    },
    {
      "cell_type": "code",
      "source": [
        "child1.job() # this method overrides the parent class job function"
      ],
      "metadata": {
        "colab": {
          "base_uri": "https://localhost:8080/"
        },
        "id": "PAXK6Q-k-Ylx",
        "outputId": "70af2c9a-32d2-447b-e9d1-a214cd276e64"
      },
      "execution_count": 143,
      "outputs": [
        {
          "output_type": "stream",
          "name": "stdout",
          "text": [
            "My dream job to become a successful,self satisfied with helping mentality\n"
          ]
        }
      ]
    },
    {
      "cell_type": "code",
      "source": [
        "child1.members() # this method inherots from parent class"
      ],
      "metadata": {
        "colab": {
          "base_uri": "https://localhost:8080/"
        },
        "id": "Q_5lL-l0-atW",
        "outputId": "1d5d97da-2e4a-46b8-ffa6-b3d350da14d5"
      },
      "execution_count": 144,
      "outputs": [
        {
          "output_type": "stream",
          "name": "stdout",
          "text": [
            "we are a joint family\n"
          ]
        }
      ]
    },
    {
      "cell_type": "code",
      "source": [],
      "metadata": {
        "id": "j78P81DJ-9Ak"
      },
      "execution_count": null,
      "outputs": []
    }
  ]
}