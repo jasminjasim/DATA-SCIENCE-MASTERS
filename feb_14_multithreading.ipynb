{
 "cells": [
  {
   "cell_type": "markdown",
   "id": "67025fcc-e59a-4b30-9612-c52891abbb09",
   "metadata": {},
   "source": [
    "# What is multithreading in python? hy is it used? Name the module used to handle threads in python"
   ]
  },
  {
   "cell_type": "code",
   "execution_count": 1,
   "id": "c36fad0b-2653-4dc5-b528-86d3852f9efe",
   "metadata": {},
   "outputs": [],
   "source": [
    "# Multithreading is the concept of running multiple process inside a single processor.\n",
    "# It is used for the efficient utlization of memory as well as CPU.\n",
    "# Threading module is used to handle threads in python"
   ]
  },
  {
   "cell_type": "markdown",
   "id": "a27bd80b-c711-402a-a901-4e3fc201a098",
   "metadata": {},
   "source": [
    "# # . Why threading module used? rite the use of the following functions\n",
    "* ( activeCount\n",
    "*  currentThread\n",
    "* enumerate)"
   ]
  },
  {
   "cell_type": "code",
   "execution_count": 104,
   "id": "ed4bc44d-d273-4ac7-9f3f-340c7bf95b40",
   "metadata": {},
   "outputs": [],
   "source": [
    "# active_Count() returns the count of threads that are currently active from enumerate()\n",
    "# enummerte(0 function returns the identity of currently active threads\n",
    "# current_thread return the information about the currently running thread\n",
    "\n",
    "import threading\n",
    "import time"
   ]
  },
  {
   "cell_type": "code",
   "execution_count": 105,
   "id": "c4d14015-ac04-41b0-8f29-2319ac35a642",
   "metadata": {},
   "outputs": [],
   "source": [
    "def square(num):\n",
    "    for n in num:\n",
    "        print(\"The square of num %d is\"% n,n**2)\n",
    "        print(\"active thhread as of now\",threading.current_thread())\n",
    "        print(\"active thhread as of now\",threading.active_count())\n",
    "        time.sleep(1)\n",
    "    \n",
    "    "
   ]
  },
  {
   "cell_type": "code",
   "execution_count": 106,
   "id": "7e295e6f-7f26-41bf-9486-39aa437084fd",
   "metadata": {},
   "outputs": [],
   "source": [
    "def cube(num):\n",
    "    for n in num:\n",
    "        print(\"The cube of num %d is\"% n,n**3)\n",
    "        print(\"active thhread as of now\",threading.current_thread())\n",
    "        print(\"active thhread as of now\",threading.active_count())\n",
    "        time.sleep(1)"
   ]
  },
  {
   "cell_type": "code",
   "execution_count": 107,
   "id": "ba0838af-9cb7-440a-b6f3-0782146c299d",
   "metadata": {},
   "outputs": [],
   "source": [
    "num_list=[3,8,10,4,8]"
   ]
  },
  {
   "cell_type": "code",
   "execution_count": 108,
   "id": "d7a3b943-7ba7-4993-b119-ea3fa4e2bd47",
   "metadata": {},
   "outputs": [],
   "source": [
    "t1=threading.Thread(target=square,args=(num_list, )) "
   ]
  },
  {
   "cell_type": "code",
   "execution_count": 109,
   "id": "e827bb43-135b-49ad-b037-06b25b0b8ca7",
   "metadata": {},
   "outputs": [],
   "source": [
    "t2=threading.Thread(target=cube,args=(num_list, )) "
   ]
  },
  {
   "cell_type": "code",
   "execution_count": 110,
   "id": "7a8c2c4b-676e-4d08-a726-aab8229a0d52",
   "metadata": {},
   "outputs": [
    {
     "name": "stdout",
     "output_type": "stream",
     "text": [
      "The square of num 3 is 9\n",
      "active thhread as of now <Thread(Thread-31 (square), started 140560757143104)>\n",
      "active thhread as of now 9\n",
      "The cube of num 3 is 27\n",
      "active thhread as of now <Thread(Thread-32 (cube), started 140560773928512)>\n",
      "active thhread as of now 10\n",
      "The square of num 8 is 64\n",
      "active thhread as of now <Thread(Thread-31 (square), started 140560757143104)>\n",
      "active thhread as of now 10\n",
      "The cube of num 8 is 512\n",
      "active thhread as of now <Thread(Thread-32 (cube), started 140560773928512)>\n",
      "active thhread as of now 10\n",
      "The square of num 10 is 100\n",
      "active thhread as of now <Thread(Thread-31 (square), started 140560757143104)>\n",
      "active thhread as of now 10\n",
      "The cube of num 10 is 1000\n",
      "active thhread as of now <Thread(Thread-32 (cube), started 140560773928512)>\n",
      "active thhread as of now 10\n",
      "The square of num 4 is 16\n",
      "active thhread as of now <Thread(Thread-31 (square), started 140560757143104)>\n",
      "active thhread as of now 10\n",
      "The cube of num 4 is 64\n",
      "active thhread as of now <Thread(Thread-32 (cube), started 140560773928512)>\n",
      "active thhread as of now 10\n",
      "The square of num 8 is 64\n",
      "active thhread as of now <Thread(Thread-31 (square), started 140560757143104)>\n",
      "active thhread as of now 10\n",
      "The cube of num 8 is 512\n",
      "active thhread as of now <Thread(Thread-32 (cube), started 140560773928512)>\n",
      "active thhread as of now 10\n",
      "the objects of threads [<_MainThread(MainThread, started 140561332705088)>, <Thread(IOPub, started daemon 140561193367104)>, <Heartbeat(Heartbeat, started daemon 140561184974400)>, <Thread(Thread-3 (_watch_pipe_fd), started daemon 140561159796288)>, <Thread(Thread-4 (_watch_pipe_fd), started daemon 140561151403584)>, <ControlThread(Control, started daemon 140561143010880)>, <HistorySavingThread(IPythonHistorySavingThread, started 140560790713920)>, <ParentPollerUnix(Thread-2, started daemon 140560782321216)>]\n"
     ]
    }
   ],
   "source": [
    "t1.start()\n",
    "\n",
    "\n",
    "t2.start()\n",
    "\n",
    "t1.join()\n",
    "t2.join()\n",
    "print(\"the objects of threads\",threading.enumerate())"
   ]
  },
  {
   "cell_type": "code",
   "execution_count": 111,
   "id": "0a5d6b76-8080-4187-ac37-983d2ccdfcec",
   "metadata": {},
   "outputs": [
    {
     "data": {
      "text/plain": [
       "8"
      ]
     },
     "execution_count": 111,
     "metadata": {},
     "output_type": "execute_result"
    }
   ],
   "source": [
    "threading.active_count()"
   ]
  },
  {
   "cell_type": "markdown",
   "id": "f4da7bb3-f77d-40fb-80e5-9489fc87539c",
   "metadata": {},
   "source": [
    "# 3. Explain the following functions\n",
    "* run\n",
    "* start\n",
    "* join\n",
    "* isAlive"
   ]
  },
  {
   "cell_type": "code",
   "execution_count": 112,
   "id": "ec60b729-f16e-4b10-b8d4-bef3fdb8fd92",
   "metadata": {},
   "outputs": [],
   "source": [
    "# run() is used to run the thread after starts it with arguments if any\n",
    "# start() is used to start the thread\n",
    "# join is used to wait the thread until it terminates\n",
    "# is_Alive() is used to check the thread is alive or not "
   ]
  },
  {
   "cell_type": "code",
   "execution_count": 130,
   "id": "db597633-abba-4884-9460-60b03f769419",
   "metadata": {},
   "outputs": [],
   "source": [
    "import threading\n",
    "\n",
    "import time\n"
   ]
  },
  {
   "cell_type": "code",
   "execution_count": null,
   "id": "d73d8643-0fbc-4eb2-a040-b3745b54cf2e",
   "metadata": {},
   "outputs": [],
   "source": []
  },
  {
   "cell_type": "code",
   "execution_count": 142,
   "id": "b0e1367a-5eed-4ea2-aed6-ec53dc0d2abc",
   "metadata": {},
   "outputs": [],
   "source": [
    "\n",
    "def add1(num):\n",
    "    sum=0\n",
    "    for n in num:\n",
    "        sum =sum+n\n",
    "        print(\"Thread_add ,sum is %d\" % sum)\n",
    "        time.sleep(2)\n"
   ]
  },
  {
   "cell_type": "code",
   "execution_count": 160,
   "id": "018524b3-9d29-4e4d-b7c4-30bb58bf1ff0",
   "metadata": {},
   "outputs": [],
   "source": [
    "\n",
    "number=[2,3,5,7,8]\n",
    "t1=threading.Thread(target=add1,args=(number,)) "
   ]
  },
  {
   "cell_type": "code",
   "execution_count": 161,
   "id": "d369a145-2ea8-4aab-a01b-f774288f54f6",
   "metadata": {},
   "outputs": [
    {
     "name": "stdout",
     "output_type": "stream",
     "text": [
      "Thread_add ,sum is 2\n",
      "Thread_add ,sum is 5\n"
     ]
    }
   ],
   "source": [
    "t1.start()\n"
   ]
  },
  {
   "cell_type": "code",
   "execution_count": 162,
   "id": "a086e5af-a2e8-4598-a6dc-b5862b70fb6a",
   "metadata": {},
   "outputs": [
    {
     "data": {
      "text/plain": [
       "True"
      ]
     },
     "execution_count": 162,
     "metadata": {},
     "output_type": "execute_result"
    },
    {
     "name": "stdout",
     "output_type": "stream",
     "text": [
      "Thread_add ,sum is 10\n",
      "Thread_add ,sum is 17\n",
      "Thread_add ,sum is 25\n"
     ]
    }
   ],
   "source": [
    "t1.is_alive()"
   ]
  },
  {
   "cell_type": "code",
   "execution_count": 163,
   "id": "78be4691-2aab-4226-b249-71e46afd58dd",
   "metadata": {},
   "outputs": [
    {
     "data": {
      "text/plain": [
       "False"
      ]
     },
     "execution_count": 163,
     "metadata": {},
     "output_type": "execute_result"
    }
   ],
   "source": [
    "t1.is_alive()"
   ]
  },
  {
   "cell_type": "markdown",
   "id": "fe724ba6-0452-46f5-96f8-a6c9811062ce",
   "metadata": {},
   "source": [
    "# Write a python program to create two threads. Thread one must print the list of squares and thread two must print the list of cubes"
   ]
  },
  {
   "cell_type": "code",
   "execution_count": 164,
   "id": "3845291f-d479-408d-8159-e9813feeaea6",
   "metadata": {},
   "outputs": [],
   "source": [
    "import threading\n",
    "import time"
   ]
  },
  {
   "cell_type": "code",
   "execution_count": 176,
   "id": "0ace5aaf-d6b2-4561-96c9-26ea6f4fe838",
   "metadata": {},
   "outputs": [],
   "source": [
    "def square(num):\n",
    "    print( [i**2 for i in num ])\n",
    "    time.sleep(1)\n",
    "\n",
    "  "
   ]
  },
  {
   "cell_type": "code",
   "execution_count": 177,
   "id": "09021104-de88-46d0-b8b3-acfa92972256",
   "metadata": {},
   "outputs": [],
   "source": [
    "def cube(num):\n",
    "    print( [i**3 for i in num ])\n",
    "    time.sleep(1)\n",
    "    "
   ]
  },
  {
   "cell_type": "code",
   "execution_count": 178,
   "id": "9cf109a2-64a4-4d19-97e9-2734bef8a201",
   "metadata": {},
   "outputs": [],
   "source": [
    "list_num=[2,6,9,10]"
   ]
  },
  {
   "cell_type": "code",
   "execution_count": 185,
   "id": "982c23cb-1aa3-4947-b435-7369adc9e168",
   "metadata": {},
   "outputs": [],
   "source": [
    "th1=threading.Thread(target=square,args=(list_num,))\n",
    "th2=threading.Thread(target=cube,args=(list_num,))"
   ]
  },
  {
   "cell_type": "code",
   "execution_count": 186,
   "id": "a8ea61ba-eadc-4760-926e-e343c39641be",
   "metadata": {},
   "outputs": [
    {
     "name": "stdout",
     "output_type": "stream",
     "text": [
      "[4, 36, 81, 100]\n",
      "[8, 216, 729, 1000]\n"
     ]
    }
   ],
   "source": [
    "th1.start()\n",
    "\n",
    "th2.start()\n",
    "th1.join()\n",
    "th2.join()"
   ]
  },
  {
   "cell_type": "markdown",
   "id": "af2686bd-8d87-4d46-a316-24d332f5110b",
   "metadata": {},
   "source": [
    "# State advantages and disadvantages of multithreading"
   ]
  },
  {
   "cell_type": "code",
   "execution_count": 187,
   "id": "21916998-1864-4c17-85c7-991523c838c4",
   "metadata": {},
   "outputs": [],
   "source": [
    "# Advantages of multithreading includes efficient usage of processor,performing multiple jobs by utilizing the time\n",
    "# Disadvantage of multithreading includes contenxt switching (between processes) and chance of deadlocks"
   ]
  },
  {
   "cell_type": "markdown",
   "id": "8ca1ef3a-abbb-4f1e-b648-42203254b2d7",
   "metadata": {},
   "source": [
    "# Explain deadlocks and race conditions."
   ]
  },
  {
   "cell_type": "code",
   "execution_count": 1,
   "id": "4c9af6fa-632d-4ae5-9b9c-12ae6bb34e99",
   "metadata": {},
   "outputs": [],
   "source": [
    "#suppose three processes are trying to access some resources.These resources are under any process .Same time other processs are waiting for the same resoorce which may lead to deadlock situation.\n",
    "# Race condition: suppose two process are accessing a shared variable .Both are performing different tasks on that shared variable which may lead \n",
    "#to inconsistancy.This problem is called race condition"
   ]
  },
  {
   "cell_type": "code",
   "execution_count": null,
   "id": "ae96514b-427e-449a-bf06-75e3c8e5ee57",
   "metadata": {},
   "outputs": [],
   "source": []
  }
 ],
 "metadata": {
  "kernelspec": {
   "display_name": "Python 3 (ipykernel)",
   "language": "python",
   "name": "python3"
  },
  "language_info": {
   "codemirror_mode": {
    "name": "ipython",
    "version": 3
   },
   "file_extension": ".py",
   "mimetype": "text/x-python",
   "name": "python",
   "nbconvert_exporter": "python",
   "pygments_lexer": "ipython3",
   "version": "3.10.8"
  }
 },
 "nbformat": 4,
 "nbformat_minor": 5
}
