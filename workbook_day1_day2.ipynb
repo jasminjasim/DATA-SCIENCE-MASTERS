{
 "cells": [
  {
   "cell_type": "code",
   "execution_count": 1,
   "id": "bd8513c6-4b4e-4d73-95b4-f17cb1941584",
   "metadata": {},
   "outputs": [],
   "source": [
    "a=10"
   ]
  },
  {
   "cell_type": "code",
   "execution_count": 2,
   "id": "bbaea8be-0faa-474d-a7bb-2f4ee2e09bdb",
   "metadata": {},
   "outputs": [
    {
     "name": "stdout",
     "output_type": "stream",
     "text": [
      "10\n"
     ]
    }
   ],
   "source": [
    "print(a)"
   ]
  },
  {
   "cell_type": "raw",
   "id": "5348e06d-453b-4bb8-abd6-5d26e89fda38",
   "metadata": {},
   "source": [
    "## it will execute same as comments but appeared in a cell\n",
    "hello 1 2 3 \n",
    "print(a)"
   ]
  },
  {
   "cell_type": "markdown",
   "id": "909db59d-9682-40af-8d6b-73e6944d01b9",
   "metadata": {},
   "source": [
    "hello"
   ]
  },
  {
   "cell_type": "code",
   "execution_count": 1,
   "id": "f9b8be0f-94d2-4fa5-b971-7eeea501c384",
   "metadata": {},
   "outputs": [
    {
     "name": "stdout",
     "output_type": "stream",
     "text": [
      "My age is 38\n"
     ]
    }
   ],
   "source": [
    "my_age=38\n",
    "print(f\"My age is {my_age}\")"
   ]
  },
  {
   "cell_type": "code",
   "execution_count": 4,
   "id": "1c49f473-652c-4ecc-a642-f7a0a4b22ff7",
   "metadata": {},
   "outputs": [
    {
     "name": "stdout",
     "output_type": "stream",
     "text": [
      "My name is jasmin and my age is 38\n"
     ]
    }
   ],
   "source": [
    "name='jasmin'\n",
    "print(\"My name is {My_name} and my age is {age}\".format(My_name=name,age=my_age))"
   ]
  },
  {
   "cell_type": "code",
   "execution_count": 5,
   "id": "c6ef7876-aecd-4e72-82c1-1e6cd05732d0",
   "metadata": {},
   "outputs": [
    {
     "name": "stdout",
     "output_type": "stream",
     "text": [
      "My age is 38 and i have completed: my degree of Mtech with the name of jasmin\n"
     ]
    }
   ],
   "source": [
    "degree='Mtech'\n",
    "print(f\"My age is {my_age} and i have completed: my degree of {degree} with the name of {name}\")"
   ]
  },
  {
   "cell_type": "code",
   "execution_count": 10,
   "id": "d80a6e8e-3de5-4bb4-aa66-a5ebd7bc1dc4",
   "metadata": {},
   "outputs": [
    {
     "name": "stdin",
     "output_type": "stream",
     "text": [
      "Please enter your age 20\n"
     ]
    },
    {
     "name": "stdout",
     "output_type": "stream",
     "text": [
      "You can succesfully vote\n"
     ]
    }
   ],
   "source": [
    "new_age=int(input(\"Please enter your age\"))\n",
    "if new_age< 18:\n",
    "    print(\"you are not allowed to vote by law\")\n",
    "else:\n",
    "    print(\"You can succesfully vote\")"
   ]
  },
  {
   "cell_type": "markdown",
   "id": "a35de252-c03e-4f34-8237-dbcb28fed9de",
   "metadata": {},
   "source": [
    "# Assignment"
   ]
  },
  {
   "cell_type": "code",
   "execution_count": 9,
   "id": "f779b908-8eac-4e54-9602-e73b6993b91e",
   "metadata": {},
   "outputs": [
    {
     "name": "stdin",
     "output_type": "stream",
     "text": [
      "please enter your product prize 5000\n"
     ]
    },
    {
     "name": "stdout",
     "output_type": "stream",
     "text": [
      "The price of the product is 4000.0\n"
     ]
    }
   ],
   "source": [
    "product_price=int(input(\"please enter your product prize\"))\n",
    "if product_price >1000:\n",
    "    off=(product_price*(20/100))\n",
    "    product_price_off=product_price-off\n",
    "    print(f\"The price of the product is {product_price_off}\")\n",
    "elif product_price<=1000:\n",
    "    off=(product_price*(30/100))\n",
    "    product_price_off=product_price-off\n",
    "    print(f\"The price of the product is {product_price_off}\"\n",
    "    "
   ]
  },
  {
   "cell_type": "code",
   "execution_count": 17,
   "id": "4731a6a4-0b2b-47bc-b838-24d5f172cdc7",
   "metadata": {},
   "outputs": [
    {
     "name": "stdin",
     "output_type": "stream",
     "text": [
      "please enter your product prize 2999\n"
     ]
    },
    {
     "name": "stdout",
     "output_type": "stream",
     "text": [
      "congratulations!!!! you are getting suitcase as your additional gift\n",
      "The price of the product is 2099.3\n"
     ]
    }
   ],
   "source": [
    "product_price=int(input(\"please enter your product prize\"))\n",
    "if product_price >3000:\n",
    "    off=(product_price*(20/100))\n",
    "    product_price_off=product_price-off\n",
    "    print(f\"The price of the product is {product_price_off}\")\n",
    "elif ((product_price>=2000) and (product_price<=3000)):\n",
    "    if product_price==2999:\n",
    "        print(\"congratulations!!!! you are getting suitcase as your additional gift\")\n",
    "    off=(product_price*(30/100))\n",
    "    product_price_off=product_price-off\n",
    "    print(f\"The price of the product is {product_price_off}\")\n",
    "elif ((product_price>=1000) and (product_price<2000)):\n",
    "    off=(product_price*(40/100))\n",
    "    product_price_off=product_price-off\n",
    "    print(f\"The price of the product is {product_price_off}\")"
   ]
  },
  {
   "cell_type": "code",
   "execution_count": null,
   "id": "2eae2cd1-5a65-40bc-9196-99f098aba86c",
   "metadata": {},
   "outputs": [],
   "source": []
  },
  {
   "cell_type": "code",
   "execution_count": null,
   "id": "b4d791e9-41a7-41a8-81ee-bfd2d7547030",
   "metadata": {},
   "outputs": [],
   "source": []
  }
 ],
 "metadata": {
  "kernelspec": {
   "display_name": "Python 3 (ipykernel)",
   "language": "python",
   "name": "python3"
  },
  "language_info": {
   "codemirror_mode": {
    "name": "ipython",
    "version": 3
   },
   "file_extension": ".py",
   "mimetype": "text/x-python",
   "name": "python",
   "nbconvert_exporter": "python",
   "pygments_lexer": "ipython3",
   "version": "3.10.8"
  }
 },
 "nbformat": 4,
 "nbformat_minor": 5
}
