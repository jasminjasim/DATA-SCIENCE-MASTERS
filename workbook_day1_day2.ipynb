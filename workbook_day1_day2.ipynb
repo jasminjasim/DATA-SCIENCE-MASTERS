{
 "cells": [
  {
   "cell_type": "code",
   "execution_count": 4,
   "id": "bd8513c6-4b4e-4d73-95b4-f17cb1941584",
   "metadata": {},
   "outputs": [],
   "source": [
    "a=10"
   ]
  },
  {
   "cell_type": "code",
   "execution_count": 5,
   "id": "bbaea8be-0faa-474d-a7bb-2f4ee2e09bdb",
   "metadata": {},
   "outputs": [
    {
     "name": "stdout",
     "output_type": "stream",
     "text": [
      "10\n"
     ]
    }
   ],
   "source": [
    "print(a)"
   ]
  },
  {
   "cell_type": "markdown",
   "id": "14790269-8c3a-44cd-99bf-4c50a588359f",
   "metadata": {},
   "source": [
    "# Assignment_29/01/2023"
   ]
  },
  {
   "cell_type": "raw",
   "id": "5348e06d-453b-4bb8-abd6-5d26e89fda38",
   "metadata": {},
   "source": [
    "## it will execute same as comments but appeared in a cell\n",
    "hello 1 2 3 \n",
    "print(a)"
   ]
  },
  {
   "cell_type": "markdown",
   "id": "909db59d-9682-40af-8d6b-73e6944d01b9",
   "metadata": {},
   "source": [
    "hello"
   ]
  },
  {
   "cell_type": "code",
   "execution_count": 1,
   "id": "f9b8be0f-94d2-4fa5-b971-7eeea501c384",
   "metadata": {},
   "outputs": [
    {
     "name": "stdout",
     "output_type": "stream",
     "text": [
      "My age is 38\n"
     ]
    }
   ],
   "source": [
    "my_age=38\n",
    "print(f\"My age is {my_age}\")"
   ]
  },
  {
   "cell_type": "code",
   "execution_count": 4,
   "id": "1c49f473-652c-4ecc-a642-f7a0a4b22ff7",
   "metadata": {},
   "outputs": [
    {
     "name": "stdout",
     "output_type": "stream",
     "text": [
      "My name is jasmin and my age is 38\n"
     ]
    }
   ],
   "source": [
    "name='jasmin'\n",
    "print(\"My name is {My_name} and my age is {age}\".format(My_name=name,age=my_age))"
   ]
  },
  {
   "cell_type": "code",
   "execution_count": 5,
   "id": "c6ef7876-aecd-4e72-82c1-1e6cd05732d0",
   "metadata": {},
   "outputs": [
    {
     "name": "stdout",
     "output_type": "stream",
     "text": [
      "My age is 38 and i have completed: my degree of Mtech with the name of jasmin\n"
     ]
    }
   ],
   "source": [
    "degree='Mtech'\n",
    "print(f\"My age is {my_age} and i have completed: my degree of {degree} with the name of {name}\")"
   ]
  },
  {
   "cell_type": "code",
   "execution_count": 10,
   "id": "d80a6e8e-3de5-4bb4-aa66-a5ebd7bc1dc4",
   "metadata": {},
   "outputs": [
    {
     "name": "stdin",
     "output_type": "stream",
     "text": [
      "Please enter your age 20\n"
     ]
    },
    {
     "name": "stdout",
     "output_type": "stream",
     "text": [
      "You can succesfully vote\n"
     ]
    }
   ],
   "source": [
    "new_age=int(input(\"Please enter your age\"))\n",
    "if new_age< 18:\n",
    "    print(\"you are not allowed to vote by law\")\n",
    "else:\n",
    "    print(\"You can succesfully vote\")"
   ]
  },
  {
   "cell_type": "markdown",
   "id": "a35de252-c03e-4f34-8237-dbcb28fed9de",
   "metadata": {},
   "source": [
    "# Assignment"
   ]
  },
  {
   "cell_type": "code",
   "execution_count": 9,
   "id": "f779b908-8eac-4e54-9602-e73b6993b91e",
   "metadata": {},
   "outputs": [
    {
     "name": "stdin",
     "output_type": "stream",
     "text": [
      "please enter your product prize 5000\n"
     ]
    },
    {
     "name": "stdout",
     "output_type": "stream",
     "text": [
      "The price of the product is 4000.0\n"
     ]
    }
   ],
   "source": [
    "product_price=int(input(\"please enter your product prize\"))\n",
    "if product_price >1000:\n",
    "    off=(product_price*(20/100))\n",
    "    product_price_off=product_price-off\n",
    "    print(f\"The price of the product is {product_price_off}\")\n",
    "elif product_price<=1000:\n",
    "    off=(product_price*(30/100))\n",
    "    product_price_off=product_price-off\n",
    "    print(f\"The price of the product is {product_price_off}\"\n",
    "    "
   ]
  },
  {
   "cell_type": "code",
   "execution_count": 17,
   "id": "4731a6a4-0b2b-47bc-b838-24d5f172cdc7",
   "metadata": {},
   "outputs": [
    {
     "name": "stdin",
     "output_type": "stream",
     "text": [
      "please enter your product prize 2999\n"
     ]
    },
    {
     "name": "stdout",
     "output_type": "stream",
     "text": [
      "congratulations!!!! you are getting suitcase as your additional gift\n",
      "The price of the product is 2099.3\n"
     ]
    }
   ],
   "source": [
    "product_price=int(input(\"please enter your product prize\"))\n",
    "if product_price >3000:\n",
    "    off=(product_price*(20/100))\n",
    "    product_price_off=product_price-off\n",
    "    print(f\"The price of the product is {product_price_off}\")\n",
    "elif ((product_price>=2000) and (product_price<=3000)):\n",
    "    if product_price==2999:\n",
    "        print(\"congratulations!!!! you are getting suitcase as your additional gift\")\n",
    "    off=(product_price*(30/100))\n",
    "    product_price_off=product_price-off\n",
    "    print(f\"The price of the product is {product_price_off}\")\n",
    "elif ((product_price>=1000) and (product_price<2000)):\n",
    "    off=(product_price*(40/100))\n",
    "    product_price_off=product_price-off\n",
    "    print(f\"The price of the product is {product_price_off}\")"
   ]
  },
  {
   "cell_type": "markdown",
   "id": "fb6484bb-673d-404f-b9a1-63d0a651a800",
   "metadata": {},
   "source": [
    "# Loop Statements\n",
    "* while loop"
   ]
  },
  {
   "cell_type": "code",
   "execution_count": 21,
   "id": "b4d791e9-41a7-41a8-81ee-bfd2d7547030",
   "metadata": {},
   "outputs": [
    {
     "name": "stdout",
     "output_type": "stream",
     "text": [
      "26\n",
      "27\n",
      "28\n",
      "29\n",
      "30\n",
      "31\n",
      "32\n",
      "33\n",
      "34\n",
      "35\n",
      "36\n",
      "37\n",
      "38\n",
      "39\n",
      "40\n",
      "41\n",
      "42\n",
      "43\n",
      "44\n",
      "45\n",
      "46\n",
      "47\n",
      "48\n",
      "49\n",
      "50\n",
      "51\n",
      "52\n",
      "53\n",
      "54\n",
      "55\n",
      "56\n",
      "57\n",
      "58\n",
      "59\n",
      "60\n",
      "61\n",
      "sorry\n"
     ]
    }
   ],
   "source": [
    "joining_age=25\n",
    "while joining_age<=60:\n",
    "    joining_age=joining_age+1\n",
    "    print(joining_age)\n",
    "print(\"sorry\")\n",
    "   \n",
    "    "
   ]
  },
  {
   "cell_type": "markdown",
   "id": "fa24dd8c-f22c-4f6b-a62e-5ac416c09d0b",
   "metadata": {},
   "source": [
    "# Loop statements\n",
    "* For Loop"
   ]
  },
  {
   "cell_type": "code",
   "execution_count": 24,
   "id": "5d810b8c-9ed3-42c6-ab61-59b6ab9a1af7",
   "metadata": {},
   "outputs": [
    {
     "name": "stdout",
     "output_type": "stream",
     "text": [
      "Hurray!!!!its sunday\n",
      "Hurray!!!!its sunday\n"
     ]
    }
   ],
   "source": [
    "List_name=[\"sunday\",'Monday','Tuesday','wednesday','thursday','friday','saturday','sunday']\n",
    "for i in List_name:\n",
    "    if i=='sunday':\n",
    "        print(f\"Hurray!!!!its {i}\")"
   ]
  },
  {
   "cell_type": "markdown",
   "id": "8223f1ee-0e25-48e9-b633-dd17bb138257",
   "metadata": {},
   "source": [
    "# Assignment_Nested Loop(patterns) 30/01/2023"
   ]
  },
  {
   "cell_type": "code",
   "execution_count": 2,
   "id": "7b21b131-433c-46e2-ab89-dc2d4804c4fe",
   "metadata": {},
   "outputs": [
    {
     "name": "stdout",
     "output_type": "stream",
     "text": [
      "          *\n",
      "         ***\n",
      "        *****\n",
      "       *******\n",
      "      *********\n",
      "     ***********\n",
      "    *************\n",
      "   ***************\n",
      "  *****************\n",
      " *******************\n"
     ]
    }
   ],
   "source": [
    "for i in range(0,10):\n",
    "    print(' '*(10-i),end='')\n",
    "    for j in range(0,i*2+1):\n",
    "        print(\"*\",end='')\n",
    "    print('\\r')\n",
    "    \n",
    "        \n",
    "        \n",
    "    "
   ]
  },
  {
   "cell_type": "markdown",
   "id": "b068c06b-3a7a-4c3f-a081-742eac8df042",
   "metadata": {},
   "source": [
    "# DAY 3"
   ]
  },
  {
   "cell_type": "code",
   "execution_count": 1,
   "id": "706f7a68-dde8-4794-ad77-2f35cf715559",
   "metadata": {},
   "outputs": [],
   "source": [
    "course_name=\"DATA SCIENCE MASTERS\""
   ]
  },
  {
   "cell_type": "code",
   "execution_count": 4,
   "id": "d12d1fa8-adc0-4c2e-8c84-550e74bcd6cb",
   "metadata": {},
   "outputs": [
    {
     "data": {
      "text/plain": [
       "'SCIENCE '"
      ]
     },
     "execution_count": 4,
     "metadata": {},
     "output_type": "execute_result"
    }
   ],
   "source": [
    "course_name[5:13]"
   ]
  },
  {
   "cell_type": "code",
   "execution_count": 15,
   "id": "cf7a0b7f-53cc-4599-8df2-3138c7f51930",
   "metadata": {},
   "outputs": [
    {
     "data": {
      "text/plain": [
       "'ECNEICS'"
      ]
     },
     "execution_count": 15,
     "metadata": {},
     "output_type": "execute_result"
    }
   ],
   "source": [
    "course_name[-9:4:-1]"
   ]
  },
  {
   "cell_type": "markdown",
   "id": "7c457818-4ffc-4b1a-a916-8bb0ece60900",
   "metadata": {},
   "source": [
    "###### "
   ]
  },
  {
   "cell_type": "code",
   "execution_count": null,
   "id": "f87dc3fa-1223-4a4c-9307-9eb41aa1943e",
   "metadata": {},
   "outputs": [],
   "source": []
  }
 ],
 "metadata": {
  "kernelspec": {
   "display_name": "Python 3 (ipykernel)",
   "language": "python",
   "name": "python3"
  },
  "language_info": {
   "codemirror_mode": {
    "name": "ipython",
    "version": 3
   },
   "file_extension": ".py",
   "mimetype": "text/x-python",
   "name": "python",
   "nbconvert_exporter": "python",
   "pygments_lexer": "ipython3",
   "version": "3.10.8"
  }
 },
 "nbformat": 4,
 "nbformat_minor": 5
}
