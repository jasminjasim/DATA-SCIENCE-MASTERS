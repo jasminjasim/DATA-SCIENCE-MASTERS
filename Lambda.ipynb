{
 "cells": [
  {
   "cell_type": "code",
   "execution_count": 3,
   "id": "9da2ba1c-a823-4cdd-b6c1-92b7c459dc4a",
   "metadata": {},
   "outputs": [],
   "source": [
    "# Lambda function\n",
    "sum_num=lambda a,b:a+b"
   ]
  },
  {
   "cell_type": "code",
   "execution_count": 4,
   "id": "058370e1-6837-47b5-a06a-28e0d8d450e1",
   "metadata": {},
   "outputs": [
    {
     "data": {
      "text/plain": [
       "11"
      ]
     },
     "execution_count": 4,
     "metadata": {},
     "output_type": "execute_result"
    }
   ],
   "source": [
    "sum_num(3,8)"
   ]
  },
  {
   "cell_type": "code",
   "execution_count": 5,
   "id": "0eb66ebe-a27b-40b8-824a-9f7b3a854a26",
   "metadata": {},
   "outputs": [],
   "source": [
    "# celsius to Farenheit\n",
    "farenheit=lambda temp : (9/5)* temp +32"
   ]
  },
  {
   "cell_type": "code",
   "execution_count": 6,
   "id": "75a8c717-9fd7-4e8e-912d-5695c61dd38c",
   "metadata": {},
   "outputs": [
    {
     "data": {
      "text/plain": [
       "392.0"
      ]
     },
     "execution_count": 6,
     "metadata": {},
     "output_type": "execute_result"
    }
   ],
   "source": [
    "farenheit(200)"
   ]
  },
  {
   "cell_type": "code",
   "execution_count": 10,
   "id": "7fdc62d4-5a8d-4d87-befc-aac218c9f5ec",
   "metadata": {},
   "outputs": [],
   "source": [
    "# max number\n",
    "max_num=lambda a,b:print(f\"{a} is maximum\")if a>b  else print(f\"{b} is maximum\")"
   ]
  },
  {
   "cell_type": "code",
   "execution_count": 11,
   "id": "383981e3-175e-4416-9c22-5a9509dd4372",
   "metadata": {},
   "outputs": [
    {
     "name": "stdout",
     "output_type": "stream",
     "text": [
      "89 is maximum\n"
     ]
    }
   ],
   "source": [
    "max_num(24,89)"
   ]
  },
  {
   "cell_type": "code",
   "execution_count": 12,
   "id": "a060f73e-69f2-4ba0-814a-35f278d3a1b0",
   "metadata": {},
   "outputs": [],
   "source": [
    "# length of string\n",
    "len_string=lambda a:len(a)\n"
   ]
  },
  {
   "cell_type": "code",
   "execution_count": 14,
   "id": "3e9e670f-9f80-4bda-bc82-343ea3daf255",
   "metadata": {},
   "outputs": [
    {
     "data": {
      "text/plain": [
       "23"
      ]
     },
     "execution_count": 14,
     "metadata": {},
     "output_type": "execute_result"
    }
   ],
   "source": [
    "len_string('jhbbjddbdhsbdhsdhsbdsbx')"
   ]
  },
  {
   "cell_type": "markdown",
   "id": "bb0a4d7c-1cc2-42b2-9063-8d41792da22a",
   "metadata": {},
   "source": [
    "# Map"
   ]
  },
  {
   "cell_type": "code",
   "execution_count": 19,
   "id": "28dda90d-8dd9-4ba5-947f-0d4165f2fa62",
   "metadata": {},
   "outputs": [],
   "source": [
    "tup=(1,2,3,4,10)"
   ]
  },
  {
   "cell_type": "code",
   "execution_count": 20,
   "id": "93425b33-9f2f-490e-9f42-eb264588252f",
   "metadata": {},
   "outputs": [],
   "source": [
    "def square(x):\n",
    "    return(x**2)"
   ]
  },
  {
   "cell_type": "code",
   "execution_count": 21,
   "id": "1ebf999f-465a-4a79-abb8-2904030eff29",
   "metadata": {},
   "outputs": [
    {
     "data": {
      "text/plain": [
       "[1, 4, 9, 16, 100]"
      ]
     },
     "execution_count": 21,
     "metadata": {},
     "output_type": "execute_result"
    }
   ],
   "source": [
    "list(map(square,tup))"
   ]
  },
  {
   "cell_type": "code",
   "execution_count": 23,
   "id": "e760aa74-19c1-4255-b10e-6a880c4b1dc8",
   "metadata": {},
   "outputs": [
    {
     "data": {
      "text/plain": [
       "[1, 4, 9, 16, 100]"
      ]
     },
     "execution_count": 23,
     "metadata": {},
     "output_type": "execute_result"
    }
   ],
   "source": [
    "list(map(lambda x : x**2, tup))"
   ]
  },
  {
   "cell_type": "code",
   "execution_count": 24,
   "id": "7c7dd658-1704-4848-af90-d027af775248",
   "metadata": {},
   "outputs": [],
   "source": [
    "l1=[1,2,3,4,5]\n",
    "l2=[65,9,10,6,41]"
   ]
  },
  {
   "cell_type": "code",
   "execution_count": 25,
   "id": "3838ab96-7a93-496e-b179-70781ec07b4c",
   "metadata": {},
   "outputs": [
    {
     "data": {
      "text/plain": [
       "[66, 11, 13, 10, 46]"
      ]
     },
     "execution_count": 25,
     "metadata": {},
     "output_type": "execute_result"
    }
   ],
   "source": [
    "list(map(lambda x,y:x+y,l1,l2))"
   ]
  },
  {
   "cell_type": "code",
   "execution_count": 26,
   "id": "f640475f-abfd-40e6-b6cb-9994dabcdb96",
   "metadata": {},
   "outputs": [],
   "source": [
    "tu1=(1,2,3,4,5)\n",
    "tu2=(65,9,10,6,41)"
   ]
  },
  {
   "cell_type": "code",
   "execution_count": 28,
   "id": "6b88fa10-7cef-475d-a3c0-190f8abd7c7c",
   "metadata": {},
   "outputs": [
    {
     "data": {
      "text/plain": [
       "[66, 11, 13, 10, 46]"
      ]
     },
     "execution_count": 28,
     "metadata": {},
     "output_type": "execute_result"
    }
   ],
   "source": [
    "list(map(lambda x,y : x+y ,tu1,tu2))"
   ]
  },
  {
   "cell_type": "code",
   "execution_count": 29,
   "id": "f04c135b-134e-4251-bcdb-b05cc0b213d8",
   "metadata": {},
   "outputs": [],
   "source": [
    "a='jasmin'\n"
   ]
  },
  {
   "cell_type": "code",
   "execution_count": 34,
   "id": "a22ce7bc-647b-4ca5-9a60-b2c30db8a8d2",
   "metadata": {},
   "outputs": [
    {
     "name": "stdout",
     "output_type": "stream",
     "text": [
      "['J', 'A', 'S', 'M', 'I', 'N']\n",
      " JASMIN\n"
     ]
    }
   ],
   "source": [
    "b=list(map(lambda x:x.upper(),a))\n",
    "print(b)\n",
    "d=' '\n",
    "for i in b:\n",
    "    d=d+i\n",
    "print(d)"
   ]
  },
  {
   "cell_type": "markdown",
   "id": "ddf2bdda-cc79-456d-98ff-f47efd42e9ae",
   "metadata": {},
   "source": [
    "# REDUCE FUNCTION"
   ]
  },
  {
   "cell_type": "code",
   "execution_count": 42,
   "id": "9473abd8-2b8f-4525-ba6f-71fa094da60b",
   "metadata": {},
   "outputs": [],
   "source": [
    "\n",
    "from functools import reduce"
   ]
  },
  {
   "cell_type": "code",
   "execution_count": 44,
   "id": "dc01ef5e-dad0-4374-8d69-8fb008ea8005",
   "metadata": {},
   "outputs": [],
   "source": [
    "list1=[1,2,3,4,5,6,7,10,345]"
   ]
  },
  {
   "cell_type": "code",
   "execution_count": 47,
   "id": "94056eb3-deb6-44a2-bc9d-545fae6fc613",
   "metadata": {},
   "outputs": [
    {
     "data": {
      "text/plain": [
       "383"
      ]
     },
     "execution_count": 47,
     "metadata": {},
     "output_type": "execute_result"
    }
   ],
   "source": [
    "reduce(lambda x, y : x + y, list1)"
   ]
  },
  {
   "cell_type": "code",
   "execution_count": 49,
   "id": "eedf1034-3eb6-471d-aac2-aa417a7dda7f",
   "metadata": {},
   "outputs": [
    {
     "data": {
      "text/plain": [
       "345"
      ]
     },
     "execution_count": 49,
     "metadata": {},
     "output_type": "execute_result"
    }
   ],
   "source": [
    "reduce(lambda x,y:x if x>y else y,list1)"
   ]
  },
  {
   "cell_type": "markdown",
   "id": "ee8a6c85-c3ef-42b0-a2af-5e98ddf7e500",
   "metadata": {},
   "source": [
    "# Filter Function"
   ]
  },
  {
   "cell_type": "code",
   "execution_count": 57,
   "id": "79401ec1-1993-444c-a085-1f99b2b99847",
   "metadata": {},
   "outputs": [
    {
     "data": {
      "text/plain": [
       "[2, 4, 6, 10]"
      ]
     },
     "execution_count": 57,
     "metadata": {},
     "output_type": "execute_result"
    }
   ],
   "source": [
    "list(filter(lambda x: x%2==0 ,list1))\n"
   ]
  },
  {
   "cell_type": "code",
   "execution_count": 58,
   "id": "e88ee056-bcb8-45b3-9925-0f25a34836ef",
   "metadata": {},
   "outputs": [],
   "source": [
    "list1=['ssdsdsdfdfd','sdsfgththhh','jbujhjdhfjdfjd','gjnj','trr']"
   ]
  },
  {
   "cell_type": "code",
   "execution_count": 60,
   "id": "0b21ae69-d779-4c4d-ba5b-0086b6fb0217",
   "metadata": {},
   "outputs": [
    {
     "data": {
      "text/plain": [
       "['gjnj', 'trr']"
      ]
     },
     "execution_count": 60,
     "metadata": {},
     "output_type": "execute_result"
    }
   ],
   "source": [
    "list(filter(lambda x : len(x)<=6,list1))"
   ]
  },
  {
   "cell_type": "code",
   "execution_count": null,
   "id": "7912cd4a-b582-4173-9383-290f4deeefc1",
   "metadata": {},
   "outputs": [],
   "source": []
  }
 ],
 "metadata": {
  "kernelspec": {
   "display_name": "Python 3 (ipykernel)",
   "language": "python",
   "name": "python3"
  },
  "language_info": {
   "codemirror_mode": {
    "name": "ipython",
    "version": 3
   },
   "file_extension": ".py",
   "mimetype": "text/x-python",
   "name": "python",
   "nbconvert_exporter": "python",
   "pygments_lexer": "ipython3",
   "version": "3.10.8"
  }
 },
 "nbformat": 4,
 "nbformat_minor": 5
}
