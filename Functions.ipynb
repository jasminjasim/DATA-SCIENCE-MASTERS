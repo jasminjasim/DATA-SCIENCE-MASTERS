{
 "cells": [
  {
   "cell_type": "code",
   "execution_count": 2,
   "id": "1bdbceed-79c9-450a-8ad5-9064f519895a",
   "metadata": {},
   "outputs": [],
   "source": [
    "def sum(a,b):\n",
    "    c=a+b\n",
    "    return c\n"
   ]
  },
  {
   "cell_type": "code",
   "execution_count": 3,
   "id": "5958581e-59bd-4d68-aa15-34d778b559ab",
   "metadata": {},
   "outputs": [
    {
     "data": {
      "text/plain": [
       "22"
      ]
     },
     "execution_count": 3,
     "metadata": {},
     "output_type": "execute_result"
    }
   ],
   "source": [
    "sum(10,12)"
   ]
  },
  {
   "cell_type": "code",
   "execution_count": 10,
   "id": "72a54887-df27-4be8-a7f3-b148fe065f27",
   "metadata": {},
   "outputs": [],
   "source": [
    "list=[1,2,3,4,'jasmin','jasim',[1.1,2.3,4.5]]"
   ]
  },
  {
   "cell_type": "code",
   "execution_count": 11,
   "id": "774093ed-916f-47fa-9a08-4bd401d0bf48",
   "metadata": {},
   "outputs": [],
   "source": [
    "def numeric_only(list1):\n",
    "    new_list=[]\n",
    "    for i in list1:\n",
    "        \n",
    "        if type(i)==int or type(i)==float:\n",
    "            new_list.append(i)\n",
    "    return(new_list)\n"
   ]
  },
  {
   "cell_type": "code",
   "execution_count": 12,
   "id": "f26e6c81-1816-4a7f-b823-bc2561515a69",
   "metadata": {},
   "outputs": [
    {
     "data": {
      "text/plain": [
       "[1, 2, 3, 4]"
      ]
     },
     "execution_count": 12,
     "metadata": {},
     "output_type": "execute_result"
    }
   ],
   "source": [
    "\n",
    "numeric_only(list)\n",
    "\n"
   ]
  },
  {
   "cell_type": "code",
   "execution_count": 15,
   "id": "d5d7df35-49a7-4c94-96a5-8d3d0efbc447",
   "metadata": {},
   "outputs": [],
   "source": [
    "def numeric_sublist(list1):\n",
    "    new_list1=[]\n",
    "    for i in list1:\n",
    "        if type(i)==list:\n",
    "            for j in i:\n",
    "                if type(j)==int or type(j)==float:\n",
    "                    new_list1.append(j)\n",
    "        else:\n",
    "            if type(i)==int:\n",
    "                new_list1.append(i)\n",
    "    return(new_list1)"
   ]
  },
  {
   "cell_type": "code",
   "execution_count": 14,
   "id": "5f23acee-b0d8-4003-8827-a32142f97796",
   "metadata": {},
   "outputs": [
    {
     "data": {
      "text/plain": [
       "[1, 2, 3, 4]"
      ]
     },
     "execution_count": 14,
     "metadata": {},
     "output_type": "execute_result"
    }
   ],
   "source": [
    "numeric_sublist(list)"
   ]
  },
  {
   "cell_type": "markdown",
   "id": "e8fb2b32-4dd6-42e8-9f68-267db9939d3f",
   "metadata": {},
   "source": [
    "# *args"
   ]
  },
  {
   "cell_type": "code",
   "execution_count": 92,
   "id": "8e7fa0d2-3582-4d62-a61b-915ddac92472",
   "metadata": {},
   "outputs": [],
   "source": [
    "def list_only(*args):\n",
    "    list_1=[]\n",
    "    for i in args:\n",
    "        if type(i) == list :\n",
    "            list_1.append(i)\n",
    "    return(list_1)\n",
    "                \n",
    "                \n",
    "            \n",
    "        "
   ]
  },
  {
   "cell_type": "code",
   "execution_count": 49,
   "id": "c68f5293-5ccb-4588-b4cf-195154662a5c",
   "metadata": {},
   "outputs": [
    {
     "data": {
      "text/plain": [
       "[]"
      ]
     },
     "execution_count": 49,
     "metadata": {},
     "output_type": "execute_result"
    }
   ],
   "source": [
    "list_only(1,2,3,[5,6,7],4.4,8,9,'Jas')"
   ]
  },
  {
   "cell_type": "code",
   "execution_count": 97,
   "id": "8c88216d-ab18-4ed3-8fae-ae815e984011",
   "metadata": {},
   "outputs": [],
   "source": [
    "def dict_choose(**kwargs):\n",
    "    list_new=[]\n",
    "    for i in kwargs:\n",
    "        if type(kwargs[i])== int:\n",
    "            list_new.append(i)\n",
    "            list_new.append(kwargs[i])\n",
    "            return list_new "
   ]
  },
  {
   "cell_type": "code",
   "execution_count": 66,
   "id": "a07a2839-ab86-4427-8338-de7718f935ea",
   "metadata": {},
   "outputs": [],
   "source": [
    "a=dict_choose(id=1234 ,name='jasmin')"
   ]
  },
  {
   "cell_type": "code",
   "execution_count": 72,
   "id": "f05012a8-1d08-4034-a17b-236bf0d981de",
   "metadata": {},
   "outputs": [
    {
     "name": "stdout",
     "output_type": "stream",
     "text": [
      "dict_keys(['id', 'name']) : dict_values([1234, 'jasmin'])\n"
     ]
    }
   ],
   "source": [
    "print(a.keys() ,':' ,a.values())"
   ]
  },
  {
   "cell_type": "code",
   "execution_count": 69,
   "id": "dc59df9a-f104-47a7-9977-a5e594649316",
   "metadata": {},
   "outputs": [
    {
     "data": {
      "text/plain": [
       "dict_values([1234, 'jasmin'])"
      ]
     },
     "execution_count": 69,
     "metadata": {},
     "output_type": "execute_result"
    }
   ],
   "source": [
    "a.values()"
   ]
  },
  {
   "cell_type": "code",
   "execution_count": 98,
   "id": "5e760493-384c-438c-bcf8-5e17468b211b",
   "metadata": {},
   "outputs": [
    {
     "data": {
      "text/plain": [
       "['id1', 1244]"
      ]
     },
     "execution_count": 98,
     "metadata": {},
     "output_type": "execute_result"
    }
   ],
   "source": [
    "dict_choose(id1=1244,name1='jasmin',name2='jasim',id2=909)"
   ]
  },
  {
   "cell_type": "markdown",
   "id": "5223f243-d66e-44f2-8cd2-40a66128add0",
   "metadata": {},
   "source": [
    "# Generator Function"
   ]
  },
  {
   "cell_type": "code",
   "execution_count": 100,
   "id": "49b4ae40-e5e2-4c3d-a47e-ffb5cf91517f",
   "metadata": {},
   "outputs": [],
   "source": []
  },
  {
   "cell_type": "code",
   "execution_count": 115,
   "id": "826a15a5-3292-42c9-9546-d89d939c3cd5",
   "metadata": {},
   "outputs": [],
   "source": [
    "def add_pre(list1):\n",
    "    a,b=0,1\n",
    "    for i in list1:\n",
    "        yield a,b\n",
    "        a=i+b\n",
    "        b=2*i\n",
    "        "
   ]
  },
  {
   "cell_type": "code",
   "execution_count": 116,
   "id": "7e050f0c-3609-4e6d-a1e9-c7d5b22f4f74",
   "metadata": {},
   "outputs": [],
   "source": [
    "list=[1,2,3,4,4,5,6,7,8]\n"
   ]
  },
  {
   "cell_type": "code",
   "execution_count": 117,
   "id": "7b683995-fa73-4ead-adb7-8373f5e5465d",
   "metadata": {},
   "outputs": [
    {
     "name": "stdout",
     "output_type": "stream",
     "text": [
      "(0, 1)\n",
      "(2, 2)\n",
      "(4, 4)\n",
      "(7, 6)\n",
      "(10, 8)\n",
      "(12, 8)\n",
      "(13, 10)\n",
      "(16, 12)\n",
      "(19, 14)\n"
     ]
    }
   ],
   "source": [
    " for i in add_pre(list):\n",
    "        print(i)"
   ]
  },
  {
   "cell_type": "code",
   "execution_count": null,
   "id": "7aadef20-0b64-4bea-8dd7-277866a851fd",
   "metadata": {},
   "outputs": [],
   "source": []
  },
  {
   "cell_type": "code",
   "execution_count": null,
   "id": "879fa31e-3dd4-47f6-9429-7394da9220d4",
   "metadata": {},
   "outputs": [],
   "source": []
  }
 ],
 "metadata": {
  "kernelspec": {
   "display_name": "Python 3 (ipykernel)",
   "language": "python",
   "name": "python3"
  },
  "language_info": {
   "codemirror_mode": {
    "name": "ipython",
    "version": 3
   },
   "file_extension": ".py",
   "mimetype": "text/x-python",
   "name": "python",
   "nbconvert_exporter": "python",
   "pygments_lexer": "ipython3",
   "version": "3.10.8"
  }
 },
 "nbformat": 4,
 "nbformat_minor": 5
}
