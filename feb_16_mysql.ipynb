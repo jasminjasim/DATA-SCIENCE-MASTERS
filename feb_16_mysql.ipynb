{
 "cells": [
  {
   "cell_type": "markdown",
   "id": "5e7faf90-01ab-4f62-a7c9-3a6c10ad58b7",
   "metadata": {},
   "source": [
    "# What is a database? Differentiate between SQL and NoSQL databases."
   ]
  },
  {
   "cell_type": "code",
   "execution_count": 1,
   "id": "5692a1ed-a35f-4092-bef9-5de32145c1c8",
   "metadata": {},
   "outputs": [],
   "source": [
    "# Database is an application where you are tooring the datas There are mainly two types\n",
    "# of databases.One is Sql structure query language,a structured database .eg:Oracle,mysql,DB2etc\n",
    "# Nosql is not only SQL,which is a non structured query language eg: MongoDB,Cassandra,Hbase etc "
   ]
  },
  {
   "cell_type": "markdown",
   "id": "82c5cf2f-6f54-4ac7-af19-83891f137835",
   "metadata": {},
   "source": [
    "# Q2. What is DDL? Explain why CREATE, DROP, ALTER, and TRUNCATE are used with an example."
   ]
  },
  {
   "cell_type": "code",
   "execution_count": 4,
   "id": "b48362c4-0622-4522-9a4e-8bc9a786d68f",
   "metadata": {},
   "outputs": [],
   "source": [
    "# data definition language.these are used to create drop alter and truncate the table\n",
    "# create command is used to create a table\n",
    "# drop table is used to drop the table\n",
    "# alter command is used to alter the structure of the table\n",
    "# truncate command is used to delete the data from the table\n",
    "import mysql.connector\n",
    "mydb = mysql.connector.connect(\n",
    "  host=\"localhost\",\n",
    "  user=\"abc\",\n",
    "  password=\"password\"\n",
    ")\n",
    "\n",
    "mycursor=mydb.cursor()\n",
    "mycursor.execute(\"CREATE DATABASE if not exists My_database\")\n",
    "mycursor.execute(\"alter table My_database.UG add percentage int(3)\")\n",
    "mycursor.execute(\"truncate table My_database.UG\")\n",
    "mycursor.execute(\"drop table My_database.UG\")"
   ]
  },
  {
   "cell_type": "markdown",
   "id": "dbeb939f-05ee-420a-b03c-54e9b296c51e",
   "metadata": {},
   "source": [
    "# What is DML? Explain INSERT, UPDATE, and DELETE with an example."
   ]
  },
  {
   "cell_type": "code",
   "execution_count": null,
   "id": "4adac0a5-7ba4-41ee-a34c-4dda48d7918e",
   "metadata": {},
   "outputs": [],
   "source": [
    "import mysql.connector\n",
    "mydb = mysql.connector.connect(\n",
    "  host=\"localhost\",\n",
    "  user=\"abc\",\n",
    "  password=\"password\"\n",
    ")\n",
    "\n",
    "mycursor=mydb.cursor()\n",
    "mycursor.execute(\"INSERT INTO My_database.UG values('jasmin','Mtech')\")\n",
    "mycursor.execute(\"select * from My_database.UG\")\n",
    "for x in mycursor:\n",
    "  print(x)\n",
    "mydb.close()"
   ]
  },
  {
   "cell_type": "code",
   "execution_count": null,
   "id": "ca1124dc-c98b-4847-b297-29dfd3f762a1",
   "metadata": {},
   "outputs": [],
   "source": [
    "import mysql.connector\n",
    "mydb = mysql.connector.connect(\n",
    "  host=\"localhost\",\n",
    "  user=\"abc\",\n",
    "  password=\"password\"\n",
    ")\n",
    "\n",
    "mycursor=mydb.cursor()\n",
    "update_query=\"UPDATE My_database.UG SET Name = 'JASIM' WHERE DEGREE = 'Mtech'\"\n",
    "mycursor.execute(update_query)\n",
    "mycursor.execute(\"select * from My_database.UG\")\n",
    "for x in mycursor:\n",
    "    print(x)\n",
    "mydb.close()"
   ]
  },
  {
   "cell_type": "code",
   "execution_count": null,
   "id": "870cf3b8-8a52-44f9-91d8-09f9214a2125",
   "metadata": {},
   "outputs": [],
   "source": [
    "import mysql.connector\n",
    "mydb = mysql.connector.connect(\n",
    "  host=\"localhost\",\n",
    "  user=\"abc\",\n",
    "  password=\"password\"\n",
    ")\n",
    "\n",
    "mycursor=mydb.cursor()\n",
    "mycursor1=mydb.cursor()\n",
    "delete_table=\"DELETE FROM My_database.UG WHERE Name='JASIM'\"\n",
    "mycursor.execute(delete_table)\n",
    "\n",
    "mycursor.execute(\"SHOW TABLES from My_database\")\n",
    "for x in mycursor:\n",
    "    print(x)\n",
    "\n",
    "\n",
    "\n",
    "mydb.close()"
   ]
  },
  {
   "cell_type": "markdown",
   "id": "355ccc39-14d4-40a8-8426-6f40af25a8a5",
   "metadata": {},
   "source": [
    "# What is DQL? Explain SELECT with an example."
   ]
  },
  {
   "cell_type": "code",
   "execution_count": null,
   "id": "0093cd6d-1518-4925-b21e-bd9e4c924172",
   "metadata": {},
   "outputs": [],
   "source": [
    "# DQL is Data Query Language,used for grouping\n",
    "\n",
    "import mysql.connector\n",
    "mydb = mysql.connector.connect(\n",
    "  host=\"localhost\",\n",
    "  user=\"abc\",\n",
    "  password=\"password\"\n",
    ")\n",
    "\n",
    "mycursor=mydb.cursor()\n",
    "mycursor.execute(\"SELECT * from My_database.UG\")\n",
    "for j in mycursor:\n",
    "    print(\"the cotents are\",j)\n",
    "mydb.close()"
   ]
  },
  {
   "cell_type": "markdown",
   "id": "1cb4e7f0-b355-4b6f-9be0-c7bb6be99b37",
   "metadata": {},
   "source": [
    "# Q5. Explain Primary Key and Foreign Key."
   ]
  },
  {
   "cell_type": "code",
   "execution_count": 1,
   "id": "8cfc0980-5fbb-40d6-9f65-69523685630c",
   "metadata": {},
   "outputs": [],
   "source": [
    "# primary key is the unique key for a table.\n",
    "# foriegn key is the key of a table which is a primary key of another table"
   ]
  },
  {
   "cell_type": "markdown",
   "id": "e15d1140-f60e-47a9-b336-986b5421f695",
   "metadata": {},
   "source": [
    "# Write a python code to connect MySQL to python. Explain the cursor() and execute() method."
   ]
  },
  {
   "cell_type": "code",
   "execution_count": null,
   "id": "d847f699-5c73-4886-8f3b-bfca23121005",
   "metadata": {},
   "outputs": [],
   "source": [
    "import mysql.connector\n",
    "mydb = mysql.connector.connect(\n",
    "  host=\"localhost\",\n",
    "  user=\"abc\",\n",
    "  password=\"password\"\n",
    ")\n",
    "\n",
    "mycursor=mydb.cursor()\n",
    "\n",
    "# cursor is used to fetch the contents like a mouse\n",
    "# execute is used to execute the commands fetch using cursor"
   ]
  },
  {
   "cell_type": "markdown",
   "id": "994e40f0-9156-491c-b702-c64484a843df",
   "metadata": {},
   "source": [
    "# Give the order of execution of SQL clauses in an SQL query."
   ]
  },
  {
   "cell_type": "code",
   "execution_count": null,
   "id": "67cca564-5e1f-46b0-8e11-e19748b33700",
   "metadata": {},
   "outputs": [],
   "source": [
    "#from ,where ,having select"
   ]
  }
 ],
 "metadata": {
  "kernelspec": {
   "display_name": "Python 3 (ipykernel)",
   "language": "python",
   "name": "python3"
  },
  "language_info": {
   "codemirror_mode": {
    "name": "ipython",
    "version": 3
   },
   "file_extension": ".py",
   "mimetype": "text/x-python",
   "name": "python",
   "nbconvert_exporter": "python",
   "pygments_lexer": "ipython3",
   "version": "3.10.8"
  }
 },
 "nbformat": 4,
 "nbformat_minor": 5
}
