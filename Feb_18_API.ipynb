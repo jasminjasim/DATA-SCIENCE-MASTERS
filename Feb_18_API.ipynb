{
 "cells": [
  {
   "cell_type": "markdown",
   "id": "a6dd4d56-3d97-4cc4-a68a-0d1f1ec3d643",
   "metadata": {},
   "source": [
    "# What is an API? Give an example, where an API is used in real life."
   ]
  },
  {
   "cell_type": "code",
   "execution_count": 1,
   "id": "eb93f1a1-44e6-4b02-8268-70ce91183900",
   "metadata": {},
   "outputs": [],
   "source": [
    "# API is an application user interface which helps to interact with other applicationjs.\n",
    "# eg:swiggy online delivery with online payment.it directly connects with banking system which is an another application"
   ]
  },
  {
   "cell_type": "markdown",
   "id": "c64b25c7-29b4-43bc-89c3-e1888e375eb8",
   "metadata": {},
   "source": [
    "# Give advantages and disadvantages of using API."
   ]
  },
  {
   "cell_type": "code",
   "execution_count": 2,
   "id": "e3d076e2-127e-45ea-8aab-db0701748371",
   "metadata": {},
   "outputs": [],
   "source": [
    "# easy to migrate from one app to another by sending some required information\n",
    "# hackers intrusion may be possible disadvantage of API"
   ]
  },
  {
   "cell_type": "markdown",
   "id": "93910e51-125a-4b0f-a2aa-df63912e162b",
   "metadata": {},
   "source": [
    "# What is a Web API? Differentiate between API and Web API."
   ]
  },
  {
   "cell_type": "code",
   "execution_count": 3,
   "id": "1a1c08ce-3f8f-4ff8-ad5c-a4df38d7bc76",
   "metadata": {},
   "outputs": [],
   "source": [
    "# Web API uses the HTTP protocol to send information from one app to another app.\n",
    "# API allows communication through SMTP,TCP,HTTP where as web API communication possible \n",
    "# only through HTTP"
   ]
  },
  {
   "cell_type": "markdown",
   "id": "702799b2-0667-4073-b75d-3a601946f37a",
   "metadata": {},
   "source": [
    "# Explain REST and SOAP Architecture. Mention shortcomings of SOAP."
   ]
  },
  {
   "cell_type": "code",
   "execution_count": 6,
   "id": "03331ce3-acbd-4b33-871b-8d54d0507947",
   "metadata": {},
   "outputs": [],
   "source": [
    "# REST and SOAP Are the two different architectures that API can use.SOAP is using in the \n",
    "# situation where security is more concerned.It is not that much flexible,scalable."
   ]
  },
  {
   "cell_type": "markdown",
   "id": "5d87da84-1736-4f35-84be-6cf384881df0",
   "metadata": {},
   "source": [
    "# Differentiate between REST and SOAP."
   ]
  },
  {
   "cell_type": "code",
   "execution_count": null,
   "id": "78430e2c-0bf8-4641-a9d8-5989e55097ba",
   "metadata": {},
   "outputs": [],
   "source": [
    "REST architecture is a client server architecture.REST uses HTTP Protocol\n",
    "rest is called representational state transfer which uses HTTP protocol.fleible ,scalable \n",
    "and simple\n",
    "\n",
    "SOAP architecture is a client server architecture.Soap uses SMTP/TCp protocol which gives\n",
    "more imortance on security.passing all the mesages as XML where rules are written using \n",
    "web service descriptionlanguage"
   ]
  },
  {
   "cell_type": "code",
   "execution_count": null,
   "id": "1ab7cc51-cfb6-4f72-ba92-3620ec028beb",
   "metadata": {},
   "outputs": [],
   "source": []
  }
 ],
 "metadata": {
  "kernelspec": {
   "display_name": "Python 3 (ipykernel)",
   "language": "python",
   "name": "python3"
  },
  "language_info": {
   "codemirror_mode": {
    "name": "ipython",
    "version": 3
   },
   "file_extension": ".py",
   "mimetype": "text/x-python",
   "name": "python",
   "nbconvert_exporter": "python",
   "pygments_lexer": "ipython3",
   "version": "3.10.8"
  }
 },
 "nbformat": 4,
 "nbformat_minor": 5
}
