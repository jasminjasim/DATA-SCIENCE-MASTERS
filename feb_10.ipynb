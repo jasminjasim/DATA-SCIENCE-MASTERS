{
 "cells": [
  {
   "cell_type": "markdown",
   "id": "881cab69-818d-4efb-8782-616bb702d8ea",
   "metadata": {},
   "source": [
    "# Which function is used to open a file? What are the different modes of opening a file? Explain each modeof file opening."
   ]
  },
  {
   "cell_type": "code",
   "execution_count": 1,
   "id": "0361395b-6071-4f59-b47b-dff74bc06487",
   "metadata": {},
   "outputs": [],
   "source": [
    "# file.open() function is used to open a file.different modes are write,read,append,writebinary,readbinary etc.\n",
    "# write...to write in a file,if file exists otherwise create it and perform write\n",
    "# read .... to read a file\n",
    "# append....to append the content that has already contents in the file\n",
    "# writebinary....to write binary files\n",
    "# readbinary...to read binary files\n"
   ]
  },
  {
   "cell_type": "markdown",
   "id": "9a7fb5f2-7878-470e-9894-5e0f53ba74c0",
   "metadata": {},
   "source": [
    "# Why close() function is used? Why is it important to close a file?"
   ]
  },
  {
   "cell_type": "code",
   "execution_count": 2,
   "id": "25efe5a5-488d-4069-875b-90de67182e98",
   "metadata": {},
   "outputs": [],
   "source": [
    "# close function is used to close the file after write operation.Once the fle gets closed only,the content will be wrtten on the file"
   ]
  },
  {
   "cell_type": "markdown",
   "id": "289a8f2f-15c1-4630-8586-347606119940",
   "metadata": {},
   "source": [
    "# Write a python program to create a text file. Write ‘I want to become a Data Scientist’ in that file. Then close the file. Open this file and read the content of the file."
   ]
  },
  {
   "cell_type": "code",
   "execution_count": 4,
   "id": "eda6da9b-982a-4f9f-8e9f-2843a1b5354b",
   "metadata": {},
   "outputs": [],
   "source": [
    "file=open(\"text_sample.txt\",'w')"
   ]
  },
  {
   "cell_type": "code",
   "execution_count": 5,
   "id": "dc4673e3-0c32-46f5-b67d-425a07464cc5",
   "metadata": {},
   "outputs": [
    {
     "data": {
      "text/plain": [
       "33"
      ]
     },
     "execution_count": 5,
     "metadata": {},
     "output_type": "execute_result"
    }
   ],
   "source": [
    "file.write(\"I want to become a Data Scientist\")"
   ]
  },
  {
   "cell_type": "code",
   "execution_count": 6,
   "id": "f9971c5f-973b-4b21-bd12-71b0ffe465e6",
   "metadata": {},
   "outputs": [],
   "source": [
    "file.close()"
   ]
  },
  {
   "cell_type": "code",
   "execution_count": 8,
   "id": "66614e3b-ebbb-4438-bb31-405184408efc",
   "metadata": {},
   "outputs": [],
   "source": [
    "file=open(\"text_sample.txt\",'r')"
   ]
  },
  {
   "cell_type": "code",
   "execution_count": 10,
   "id": "73a74b59-0787-476b-bdf4-2e5f91afbfbc",
   "metadata": {},
   "outputs": [
    {
     "name": "stdout",
     "output_type": "stream",
     "text": [
      "I want to become a Data Scientist\n"
     ]
    }
   ],
   "source": [
    "print(file.read())"
   ]
  },
  {
   "cell_type": "markdown",
   "id": "cb6872bd-18b0-4118-9d07-cade91b3079a",
   "metadata": {},
   "source": [
    "# Explain the following with python code: read(), readline() and readlines()."
   ]
  },
  {
   "cell_type": "code",
   "execution_count": 43,
   "id": "ba7f7f95-b060-45f0-82a6-493b77fefc97",
   "metadata": {},
   "outputs": [],
   "source": [
    "file=open(\"text_sample.txt\",'a')"
   ]
  },
  {
   "cell_type": "code",
   "execution_count": 36,
   "id": "8519e2b7-ec9e-4faf-8ba0-b125f7be210f",
   "metadata": {},
   "outputs": [
    {
     "data": {
      "text/plain": [
       "438"
      ]
     },
     "execution_count": 36,
     "metadata": {},
     "output_type": "execute_result"
    }
   ],
   "source": [
    "file.write(\"Data science is the study of data to extract meaningful insights for business. It is a multidisciplinary approach that combines principles and practices from the fields of mathematics, statistics, artificial intelligence, and computer engineering to analyze large amounts of data. This analysis helps data scientists to ask and answer questions like what happened, why it happened, what will happen, and what can be done with the results.\")"
   ]
  },
  {
   "cell_type": "code",
   "execution_count": 44,
   "id": "b18ec7b4-8b3a-4427-8484-16262e418c77",
   "metadata": {},
   "outputs": [
    {
     "data": {
      "text/plain": [
       "8"
      ]
     },
     "execution_count": 44,
     "metadata": {},
     "output_type": "execute_result"
    }
   ],
   "source": [
    "file.write(\"heloollllllllllll\\n\")\n",
    "file.write(\"hiiiiii\\n\")"
   ]
  },
  {
   "cell_type": "code",
   "execution_count": 45,
   "id": "30969d80-21bb-47df-b396-7c104ef8c780",
   "metadata": {},
   "outputs": [],
   "source": [
    "file.close()"
   ]
  },
  {
   "cell_type": "code",
   "execution_count": 46,
   "id": "de6b95d4-7883-488f-93fc-b8bbdcb8b06e",
   "metadata": {},
   "outputs": [],
   "source": [
    "file=open(\"text_sample.txt\",'r')"
   ]
  },
  {
   "cell_type": "code",
   "execution_count": 47,
   "id": "ffb82ae9-8eba-49a1-9334-dd6302db663a",
   "metadata": {},
   "outputs": [
    {
     "data": {
      "text/plain": [
       "'I want to become a Data ScientistData science is t'"
      ]
     },
     "execution_count": 47,
     "metadata": {},
     "output_type": "execute_result"
    }
   ],
   "source": [
    "file.read(50)"
   ]
  },
  {
   "cell_type": "code",
   "execution_count": 48,
   "id": "76bba670-f3e2-479e-a0bb-e0773382ca9f",
   "metadata": {},
   "outputs": [
    {
     "data": {
      "text/plain": [
       "'he study of data to extract meaningful insights for business. It is a multidisciplinary approach that combines principles and practices from the fields of mathematics, statistics, artificial intelligence, and computer engineering to analyze large amounts of data. This analysis helps data scientists to ask and answer questions like what happened, why it happened, what will happen, and what can be done with the results.Data science is the study of data to extract meaningful insights for business. It is a multidisciplinary approach that combines principles and practices from the fields of mathematics, statistics, artificial intelligence, and computer engineering to analyze large amounts of data. This analysis helps data scientists to ask and answer questions like what happened, why it happened, what will happen, and what can be done with the results.heloollllllllllllData science is the study of data to extract meaningful insights for business. It is a multidisciplinary approach that combines principles and practices from the fields of mathematics, statistics, artificial intelligence, and computer engineering to analyze large amounts of data. This analysis helps data scientists to ask and answer questions like what happened, why it happened, what will happen, and what can be done with the results.heloollllllllllll/nhiiiiii/nheloollllllllllll\\n'"
      ]
     },
     "execution_count": 48,
     "metadata": {},
     "output_type": "execute_result"
    }
   ],
   "source": [
    "file.readline()# it will read and return one line at a time"
   ]
  },
  {
   "cell_type": "code",
   "execution_count": 31,
   "id": "574b36fe-4d3c-4017-ad63-f7d3806fa684",
   "metadata": {},
   "outputs": [
    {
     "data": {
      "text/plain": [
       "0"
      ]
     },
     "execution_count": 31,
     "metadata": {},
     "output_type": "execute_result"
    }
   ],
   "source": [
    "file.seek(0)"
   ]
  },
  {
   "cell_type": "code",
   "execution_count": 20,
   "id": "9f39ebe9-366c-4fda-8a33-c781ca8dee3a",
   "metadata": {},
   "outputs": [
    {
     "data": {
      "text/plain": [
       "['I want to become a Data ScientistData science is the study of data to extract meaningful insights for business. It is a multidisciplinary approach that combines principles and practices from the fields of mathematics, statistics, artificial intelligence, and computer engineering to analyze large amounts of data. This analysis helps data scientists to ask and answer questions like what happened, why it happened, what will happen, and what can be done with the results.']"
      ]
     },
     "execution_count": 20,
     "metadata": {},
     "output_type": "execute_result"
    }
   ],
   "source": [
    "file.readlines()# it will read and return all the lines at atime"
   ]
  },
  {
   "cell_type": "markdown",
   "id": "0976f6e1-c627-42fc-9860-7aea9ec7fda3",
   "metadata": {},
   "source": [
    "# Explain why with statement is used with open(). What is the advantage of using with statement andopen() together?"
   ]
  },
  {
   "cell_type": "code",
   "execution_count": 49,
   "id": "354c3875-fe2a-485e-8d22-c4606cdf6136",
   "metadata": {},
   "outputs": [],
   "source": [
    "# with statement is more user friendly than normal file open close wmethod.\n",
    "# with method doesnt needs to specify to close the file seperately.\n",
    "# it will perform automatically\n",
    "with open(\"new_file.txt\",\"w\") as f:\n",
    "    f.write(\"hello\")\n"
   ]
  },
  {
   "cell_type": "code",
   "execution_count": 50,
   "id": "e5979f4f-2269-4b9d-8a24-ebffa9758e78",
   "metadata": {},
   "outputs": [
    {
     "name": "stdout",
     "output_type": "stream",
     "text": [
      "hello\n"
     ]
    }
   ],
   "source": [
    "with open(\"new_file.txt\",\"r\") as f:\n",
    "    for i in f: \n",
    "        print(i)"
   ]
  },
  {
   "cell_type": "markdown",
   "id": "264ba5cd-1c37-4344-948b-c2a9b142d497",
   "metadata": {},
   "source": [
    "# Explain the write() and writelines() functions. Give a suitable example."
   ]
  },
  {
   "cell_type": "code",
   "execution_count": 55,
   "id": "bdb354f1-2ec6-4de4-afb5-a849fab4b02c",
   "metadata": {},
   "outputs": [],
   "source": [
    "with open (\"new_file.txt\",\"w\") as f:\n",
    "    f.write(\"new data pleseee\")"
   ]
  },
  {
   "cell_type": "code",
   "execution_count": 53,
   "id": "cd9abc32-2fe8-4e1e-bc26-e1ab11269c8d",
   "metadata": {},
   "outputs": [],
   "source": [
    "with open (\"new_file.txt\",\"w\") as f:\n",
    "    f.writelines([\"new data pleseee\",\"hiii\"])"
   ]
  },
  {
   "cell_type": "code",
   "execution_count": 56,
   "id": "c7a3ea85-0a57-46c4-9f90-370d7486d2ba",
   "metadata": {},
   "outputs": [],
   "source": [
    "# write can  write the contents into the file whereas writelines() method is used to write list of strings into the file"
   ]
  },
  {
   "cell_type": "code",
   "execution_count": null,
   "id": "6c666def-3c68-4145-a9b8-4c67786555d3",
   "metadata": {},
   "outputs": [],
   "source": []
  }
 ],
 "metadata": {
  "kernelspec": {
   "display_name": "Python 3 (ipykernel)",
   "language": "python",
   "name": "python3"
  },
  "language_info": {
   "codemirror_mode": {
    "name": "ipython",
    "version": 3
   },
   "file_extension": ".py",
   "mimetype": "text/x-python",
   "name": "python",
   "nbconvert_exporter": "python",
   "pygments_lexer": "ipython3",
   "version": "3.10.8"
  }
 },
 "nbformat": 4,
 "nbformat_minor": 5
}
