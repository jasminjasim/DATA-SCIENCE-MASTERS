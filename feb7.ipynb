{
 "cells": [
  {
   "cell_type": "markdown",
   "id": "9605f4b1-1b0a-427f-9e63-6dec3fd2be01",
   "metadata": {},
   "source": [
    "# Q1. You are writing code for a company. The requirement of the company is that you create a python function that will check whether the password entered by the user is correct or not. The function should take the password as input and return the string “Valid Password” if the entered password follows the below-given password guidelines else it should return “Invalid Password”.\n",
    "* Note: 1. The Password should contain at least two uppercase letters and at least two lowercase letters.\n",
    "* 2. The Password should contain at least a number and three special characters.\n",
    "* 3. The length of the password should be 10 characters long."
   ]
  },
  {
   "cell_type": "code",
   "execution_count": 39,
   "id": "d6191d3f-e6f1-4e93-b092-78b20d487a01",
   "metadata": {},
   "outputs": [],
   "source": [
    "def password(string):\n",
    "    count_upper=0\n",
    "    count_lower=0\n",
    "    count_int=0\n",
    "    count_special=0\n",
    "    length=len(string)\n",
    "    list_special=['!','@','#','$','%','&']\n",
    "    for i in string:\n",
    "        if (i.isupper()):\n",
    "            count_upper=count_upper+1\n",
    "            \n",
    "        if (i.islower()):\n",
    "            count_lower=count_lower+1\n",
    "       \n",
    "        if (i.isdigit()):\n",
    "            count_int=count_int+1\n",
    "        \n",
    "        if i in list_special:\n",
    "            count_special=count_special+1\n",
    "    \n",
    "    print(count_upper,count_lower,count_int,count_special)\n",
    "         \n",
    "    if (count_lower>=2 and count_upper>=2 and length==10 and count_int>=1 and count_special>=3):\n",
    "        return(\"valid Password\")\n",
    "    else:\n",
    "        return(\"Not Valid\")\n",
    "\n",
    "        \n",
    "        \n",
    "    "
   ]
  },
  {
   "cell_type": "code",
   "execution_count": 40,
   "id": "121710bd-5566-4f7a-bcdb-9282255befbf",
   "metadata": {},
   "outputs": [
    {
     "name": "stdin",
     "output_type": "stream",
     "text": [
      "enter a password JAsm1!@#\n"
     ]
    },
    {
     "name": "stdout",
     "output_type": "stream",
     "text": [
      "2 2 1 3\n"
     ]
    },
    {
     "data": {
      "text/plain": [
       "'Not Valid'"
      ]
     },
     "execution_count": 40,
     "metadata": {},
     "output_type": "execute_result"
    }
   ],
   "source": [
    "type_password=input(\"enter a password\")\n",
    "password(type_password)"
   ]
  },
  {
   "cell_type": "markdown",
   "id": "335653c4-7d3d-42f6-ae45-ccd825e9acce",
   "metadata": {},
   "source": [
    "# Q2. Solve the below-given questions using at least one of the following:\n",
    "# 1. Lambda functioJ\n",
    "# 2. Filter functioJ\n",
    "# 3. Zap functioJ\n",
    "# 4. List ComprehensioI\n",
    "\n",
    "* B Check if the string starts with a particular letterY\n",
    "* B Check if the string is numericY\n",
    "* B Sort a list of tuples having fruit names and their quantity. [(\"mango\",99),(\"orange\",80), (\"grapes\", 1000)-\n",
    "* B Find the squares of numbers from 1 to 10Y\n",
    "* B Find the cube root of numbers from 1 to 10Y\n",
    "* B Check if a given number is evenY\n",
    "* B Filter odd numbers from the given list. [1,2,3,4,5,6,7,8,9,10-\n",
    "* B Sort a list of integers into positive and negative integers lists. [1,2,3,4,5,6,-1,-2,-3,-4,-5,0]"
   ]
  },
  {
   "cell_type": "code",
   "execution_count": 50,
   "id": "4d13de9d-7e6f-4d5b-a48a-3c7f33e2600d",
   "metadata": {},
   "outputs": [
    {
     "data": {
      "text/plain": [
       "['Yazmin']"
      ]
     },
     "execution_count": 50,
     "metadata": {},
     "output_type": "execute_result"
    }
   ],
   "source": [
    "# Check if the string starts with a particular letterY\n",
    "string=['Jasmin','Yazmin','123']\n",
    "list(filter(lambda x :x[0]=='Y' ,string))"
   ]
  },
  {
   "cell_type": "code",
   "execution_count": 76,
   "id": "dc7d36ff-b506-4d95-aa41-1f9e70f8d8bd",
   "metadata": {},
   "outputs": [
    {
     "data": {
      "text/plain": [
       "['1', '2', '3']"
      ]
     },
     "execution_count": 76,
     "metadata": {},
     "output_type": "execute_result"
    }
   ],
   "source": [
    "# Check if the string is numeric--(list comphrehension)\n",
    "[j for i in string  if i.isdigit() for j in i ]\n"
   ]
  },
  {
   "cell_type": "code",
   "execution_count": 78,
   "id": "249c4e4c-fba5-4799-82b4-c374f74228c7",
   "metadata": {},
   "outputs": [
    {
     "name": "stdout",
     "output_type": "stream",
     "text": [
      "[('orange', 80), ('mango', 99), ('grapes', 1000)]\n"
     ]
    }
   ],
   "source": [
    "# Sort a list of tuples having fruit names and their quantity. \n",
    "list1=[(\"mango\",99),(\"orange\",80), (\"grapes\", 1000)]\n",
    "\n",
    "list1.sort(key=lambda x: x[1])\n",
    "print(list1)"
   ]
  },
  {
   "cell_type": "code",
   "execution_count": 79,
   "id": "302eab47-2752-43ab-8a0d-27b964435f90",
   "metadata": {},
   "outputs": [
    {
     "data": {
      "text/plain": [
       "[1, 4, 9, 16, 25, 36, 49, 64, 81, 100]"
      ]
     },
     "execution_count": 79,
     "metadata": {},
     "output_type": "execute_result"
    }
   ],
   "source": [
    "# Find the squares of numbers from 1 to 10\n",
    "list(map(lambda x: x**2,range(1,11)))"
   ]
  },
  {
   "cell_type": "code",
   "execution_count": 80,
   "id": "f7e79478-34c4-4038-bdcf-ae8469c25bfe",
   "metadata": {},
   "outputs": [
    {
     "data": {
      "text/plain": [
       "[1, 8, 27, 64, 125, 216, 343, 512, 729, 1000]"
      ]
     },
     "execution_count": 80,
     "metadata": {},
     "output_type": "execute_result"
    }
   ],
   "source": [
    "# Find the cube root of numbers from 1 to 10\n",
    "list(map(lambda x: x**3,range(1,11)))"
   ]
  },
  {
   "cell_type": "code",
   "execution_count": 102,
   "id": "18f5db01-a1ec-4fc3-b7da-a4f1af91fc70",
   "metadata": {},
   "outputs": [
    {
     "name": "stdin",
     "output_type": "stream",
     "text": [
      "enter a number 25\n"
     ]
    },
    {
     "name": "stdout",
     "output_type": "stream",
     "text": [
      "25 is odd\n"
     ]
    }
   ],
   "source": [
    "#Check if a given number is even\n",
    "a=int(input(\"enter a number\"))\n",
    "\n",
    "even_number(a)\n",
    "even_number=(lambda a:print(f\"{a} is even\")if a%2==0  else print(f\"{a} is odd\"))"
   ]
  },
  {
   "cell_type": "code",
   "execution_count": 103,
   "id": "f1a2d2e2-0814-4e6a-9906-695849f8703d",
   "metadata": {},
   "outputs": [
    {
     "data": {
      "text/plain": [
       "[1, 3, 5, 7, 9]"
      ]
     },
     "execution_count": 103,
     "metadata": {},
     "output_type": "execute_result"
    }
   ],
   "source": [
    "# Filter odd numbers from the given list. [1,2,3,4,5,6,7,8,9,10]\n",
    "\n",
    "list1=[1,2,3,4,5,6,7,8,9,10]\n",
    "list(filter(lambda a:a%2!=0,list1))"
   ]
  },
  {
   "cell_type": "code",
   "execution_count": 2,
   "id": "ac16aca6-bd1f-47f5-ad06-c66496c6f424",
   "metadata": {},
   "outputs": [],
   "source": [
    "# Sort a list of integers into positive and negative integers lists. [1,2,3,4,5,6,-1,-2,-3,-4,-5,0]\n",
    "list1=[1,2,3,4,5,6,-1,-2,-3,-4,-5,0]\n",
    "list_negative=[]\n",
    "list_positive=[]"
   ]
  },
  {
   "cell_type": "code",
   "execution_count": 3,
   "id": "0f7c0228-2340-486d-a63f-ea9b442ac8b2",
   "metadata": {},
   "outputs": [
    {
     "name": "stdout",
     "output_type": "stream",
     "text": [
      "[-1, -2, -3, -4, -5]\n",
      "[1, 2, 3, 4, 5, 6]\n"
     ]
    }
   ],
   "source": [
    "list_positive=([i for i in list1 if(i>0) ])\n",
    "list_negative=([i for i in list1 if(i<0)])\n",
    "\n",
    "print(list_negative)\n",
    "print(list_positive)\n",
    "\n"
   ]
  },
  {
   "cell_type": "code",
   "execution_count": null,
   "id": "62d15268-6f00-4c4d-99c0-9c26cbd2c78e",
   "metadata": {},
   "outputs": [],
   "source": []
  },
  {
   "cell_type": "code",
   "execution_count": null,
   "id": "7928239f-ed5e-4dab-af35-429cd67bae81",
   "metadata": {},
   "outputs": [],
   "source": []
  },
  {
   "cell_type": "code",
   "execution_count": null,
   "id": "58637def-1e20-4e1f-bc61-b3edc1d43ad6",
   "metadata": {},
   "outputs": [],
   "source": []
  }
 ],
 "metadata": {
  "kernelspec": {
   "display_name": "Python 3 (ipykernel)",
   "language": "python",
   "name": "python3"
  },
  "language_info": {
   "codemirror_mode": {
    "name": "ipython",
    "version": 3
   },
   "file_extension": ".py",
   "mimetype": "text/x-python",
   "name": "python",
   "nbconvert_exporter": "python",
   "pygments_lexer": "ipython3",
   "version": "3.10.8"
  }
 },
 "nbformat": 4,
 "nbformat_minor": 5
}
