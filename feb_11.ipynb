{
 "cells": [
  {
   "cell_type": "markdown",
   "id": "712018fb-b7b7-4204-96fc-bb9756d566f5",
   "metadata": {},
   "source": [
    "# Q1. What is an Exception in pthon? Write the differen,e etween Exceptions nd Syntax errors\n"
   ]
  },
  {
   "cell_type": "code",
   "execution_count": 11,
   "id": "737e4507-173e-4adb-a566-447d9f76faec",
   "metadata": {},
   "outputs": [],
   "source": [
    "class validate_value(Exception):\n",
    "    def __init__(self,message):\n",
    "        self.message=message\n",
    "    "
   ]
  },
  {
   "cell_type": "code",
   "execution_count": 12,
   "id": "62ac981f-aa37-4955-8f6a-39fcfde8946b",
   "metadata": {},
   "outputs": [],
   "source": [
    "def validate_b(b):\n",
    "    if b==0:\n",
    "        raise validate_value(\"b value cannot be zero,please give valide number for b other than zero\")\n",
    "    else:\n",
    "        raise validate_value(\"valid value for b\")\n",
    "    "
   ]
  },
  {
   "cell_type": "code",
   "execution_count": 15,
   "id": "50bcd41c-00c8-434a-8cf9-21dd3d650414",
   "metadata": {},
   "outputs": [
    {
     "ename": "SyntaxError",
     "evalue": "invalid syntax (3679735160.py, line 5)",
     "output_type": "error",
     "traceback": [
      "\u001b[0;36m  Cell \u001b[0;32mIn[15], line 5\u001b[0;36m\u001b[0m\n\u001b[0;31m    b=int(,input(\"Enter b value\"))\u001b[0m\n\u001b[0m          ^\u001b[0m\n\u001b[0;31mSyntaxError\u001b[0m\u001b[0;31m:\u001b[0m invalid syntax\n"
     ]
    }
   ],
   "source": [
    "# Synatx error cannot be handled while exception can be handled during runtime using Exception class in python.\n",
    "#eg:\n",
    "a=int(input(\"Enter a value\"))\n",
    "try:\n",
    "    b=int(,input(\"Enter b value\"))\n",
    "    validate_b(b)\n",
    "except validate_value as error:\n",
    "    print(error)\n",
    "\n",
    "else:\n",
    "    result=a/b\n",
    "    print(result)\n",
    "finally:\n",
    "    print(\"Successfully divided\")\n",
    "\n",
    "    "
   ]
  },
  {
   "cell_type": "code",
   "execution_count": 16,
   "id": "5e63bab2-be73-4657-aa16-deb5e46fb0f5",
   "metadata": {},
   "outputs": [
    {
     "name": "stdin",
     "output_type": "stream",
     "text": [
      "Enter a value 12\n",
      "Enter b value 0\n"
     ]
    },
    {
     "name": "stdout",
     "output_type": "stream",
     "text": [
      "b value cannot be zero,please give valide number for b other than zero\n",
      "Successfully divided\n"
     ]
    }
   ],
   "source": [
    "a=int(input(\"Enter a value\"))\n",
    "try:\n",
    "    b=int(input(\"Enter b value\"))\n",
    "    validate_b(b)\n",
    "except validate_value as error:\n",
    "    print(error)\n",
    "\n",
    "else:\n",
    "    result=a/b\n",
    "    print(result)\n",
    "finally:\n",
    "    print(\"Successfully divided\")"
   ]
  },
  {
   "cell_type": "markdown",
   "id": "649aec8a-ef21-4e30-9366-cbe8a3ff14d9",
   "metadata": {},
   "source": [
    "# What happens when exception not handled.explain with an example?"
   ]
  },
  {
   "cell_type": "code",
   "execution_count": 17,
   "id": "18ea2736-f7d6-45fb-8dec-ae01879b19a3",
   "metadata": {},
   "outputs": [
    {
     "name": "stdin",
     "output_type": "stream",
     "text": [
      "Enter value for a 12\n",
      "Enter value for b 0\n"
     ]
    },
    {
     "ename": "ZeroDivisionError",
     "evalue": "division by zero",
     "output_type": "error",
     "traceback": [
      "\u001b[0;31m---------------------------------------------------------------------------\u001b[0m",
      "\u001b[0;31mZeroDivisionError\u001b[0m                         Traceback (most recent call last)",
      "Cell \u001b[0;32mIn[17], line 6\u001b[0m\n\u001b[1;32m      4\u001b[0m a\u001b[38;5;241m=\u001b[39m\u001b[38;5;28mint\u001b[39m(\u001b[38;5;28minput\u001b[39m(\u001b[38;5;124m\"\u001b[39m\u001b[38;5;124mEnter value for a\u001b[39m\u001b[38;5;124m\"\u001b[39m))\n\u001b[1;32m      5\u001b[0m b\u001b[38;5;241m=\u001b[39m\u001b[38;5;28mint\u001b[39m(\u001b[38;5;28minput\u001b[39m(\u001b[38;5;124m\"\u001b[39m\u001b[38;5;124mEnter value for b\u001b[39m\u001b[38;5;124m\"\u001b[39m))\n\u001b[0;32m----> 6\u001b[0m result\u001b[38;5;241m=\u001b[39m\u001b[43ma\u001b[49m\u001b[38;5;241;43m/\u001b[39;49m\u001b[43mb\u001b[49m\n\u001b[1;32m      7\u001b[0m \u001b[38;5;28mprint\u001b[39m(result)\n",
      "\u001b[0;31mZeroDivisionError\u001b[0m: division by zero"
     ]
    }
   ],
   "source": [
    "# when exception is not handled,it will not execute the lines after the error line\n",
    "# but if exception is included,it will start executing the statements after the error line \n",
    "\n",
    "a=int(input(\"Enter value for a\"))\n",
    "b=int(input(\"Enter value for b\"))\n",
    "result=a/b\n",
    "print(result)\n",
    "    # without Exception handler"
   ]
  },
  {
   "cell_type": "code",
   "execution_count": 18,
   "id": "f962da08-46f7-484a-86a6-a3e3c057be9a",
   "metadata": {},
   "outputs": [],
   "source": [
    "# with exception handler\n",
    "class validate_value(Exception):\n",
    "    def __init__(self,message):\n",
    "        self.message=message"
   ]
  },
  {
   "cell_type": "code",
   "execution_count": 37,
   "id": "884507b6-d43b-40a6-bbab-5ae553f8e3b9",
   "metadata": {},
   "outputs": [],
   "source": [
    "def validate_b(b):\n",
    "    if b==0:\n",
    "        raise validate_value(\"b value cannot be zero,please give valid number for b other than zero\")\n",
    "    \n",
    "        "
   ]
  },
  {
   "cell_type": "code",
   "execution_count": 39,
   "id": "b8fc73be-f05d-448c-aa76-d7f62c9342ce",
   "metadata": {},
   "outputs": [
    {
     "name": "stdin",
     "output_type": "stream",
     "text": [
      "Enter a value 12\n",
      "Enter b value 0\n"
     ]
    },
    {
     "name": "stdout",
     "output_type": "stream",
     "text": [
      "b value cannot be zero,please give valid number for b other than zero\n",
      "Successfully divided\n"
     ]
    }
   ],
   "source": [
    "a=int(input(\"Enter a value\"))\n",
    "try:\n",
    "    b=int(input(\"Enter b value\"))\n",
    "    validate_b(b)\n",
    "except validate_value as error:\n",
    "    print(error)\n",
    "\n",
    "else:\n",
    "    result=a/b\n",
    "    print(result)\n",
    "finally:\n",
    "    print(\"Successfully divided\")"
   ]
  },
  {
   "cell_type": "markdown",
   "id": "b09ba921-8cab-4a0a-9f52-5ebd5cc7bcac",
   "metadata": {},
   "source": [
    "# Which python statements are used to catch and handle exceptions? Explain with an example?"
   ]
  },
  {
   "cell_type": "code",
   "execution_count": 21,
   "id": "e867bc27-fabd-44a2-bdb8-10d6cfd4882b",
   "metadata": {},
   "outputs": [],
   "source": [
    "# try and except statements are used to handle exception"
   ]
  },
  {
   "cell_type": "code",
   "execution_count": 33,
   "id": "a1826700-8f94-4240-b1f7-749dd4a8bfae",
   "metadata": {},
   "outputs": [],
   "source": [
    "class voting_check(Exception):\n",
    "    def __init__(self,message):\n",
    "        self.message=message"
   ]
  },
  {
   "cell_type": "code",
   "execution_count": 34,
   "id": "b6ab5c72-a991-40ab-a08d-25a9bfdbb066",
   "metadata": {},
   "outputs": [],
   "source": [
    "def voting_age(age):\n",
    "    if(age<18):\n",
    "        raise voting_check(\"you are not eligible for vote because your age is less than 18\")\n",
    "    else:\n",
    "        raise voting_check(f\"You are eligible to vote.your age is {age}\")"
   ]
  },
  {
   "cell_type": "code",
   "execution_count": 35,
   "id": "3e7c42e4-1445-473f-86ca-bf046180ebc0",
   "metadata": {},
   "outputs": [
    {
     "name": "stdout",
     "output_type": "stream",
     "text": [
      "Welcome to Voting eligibility platform\n"
     ]
    },
    {
     "name": "stdin",
     "output_type": "stream",
     "text": [
      "Enter Your Age 12\n"
     ]
    },
    {
     "name": "stdout",
     "output_type": "stream",
     "text": [
      "you are not eligible for vote because your age is less than 18\n"
     ]
    }
   ],
   "source": [
    "print(\"Welcome to Voting eligibility platform\")\n",
    "\n",
    "try:\n",
    "    age=int(input(\"Enter Your Age\"))\n",
    "    voting_age(age)\n",
    "except voting_check as e:\n",
    "    print(e)\n",
    "    \n",
    "        \n"
   ]
  },
  {
   "cell_type": "markdown",
   "id": "e36d835d-81cb-48e1-9af8-8049506b1bfc",
   "metadata": {},
   "source": [
    "# Explain with an example\n",
    "* try and else\n",
    "* finally\n",
    "* raise"
   ]
  },
  {
   "cell_type": "code",
   "execution_count": 41,
   "id": "e75de157-4cb0-4eae-a2bf-af2c0b4c1208",
   "metadata": {},
   "outputs": [],
   "source": [
    "class withdraw(Exception):\n",
    "    def __init__(self,message):\n",
    "        self.message=message"
   ]
  },
  {
   "cell_type": "code",
   "execution_count": 42,
   "id": "76734e1b-e38a-4806-9a0d-880742bee3af",
   "metadata": {},
   "outputs": [],
   "source": [
    "def validate_withdraw(amount,bal):\n",
    "     if (amount >bal):\n",
    "            raise withdraw(\"Your balance is not sufficient to withdraw\")\n",
    "\n",
    "    "
   ]
  },
  {
   "cell_type": "code",
   "execution_count": 47,
   "id": "d82c1bf2-1297-4a26-95ec-5c5aeb683241",
   "metadata": {},
   "outputs": [
    {
     "name": "stdin",
     "output_type": "stream",
     "text": [
      "Enter the amount to be deposited 2000\n",
      "Ente the amount to withdraw 500\n"
     ]
    },
    {
     "name": "stdout",
     "output_type": "stream",
     "text": [
      "1600\n",
      "Thank you,and Enjoy\n"
     ]
    }
   ],
   "source": [
    "# try and else\n",
    "#the suspicious code can be written inside try block .Once there is no error(exception ) in the code else block will be get executed\n",
    "balance_amount=100\n",
    "deposit_amount=int(input(\"Enter the amount to be deposited\"))                     \n",
    "balance_amount=balance_amount+deposit_amount                     \n",
    "try:\n",
    "    withdraw_amount=int(input(\"Ente the amount to withdraw\"))\n",
    "    validate_withdraw(withdraw_amount,balance_amount)\n",
    "except withdraw as e:\n",
    "    print(e)\n",
    "else:\n",
    "    balance_amount=balance_amount-withdraw_amount\n",
    "    print(balance_amount)\n",
    "    \n",
    "finally:\n",
    "    print(\"Thank you,and Enjoy\")\n",
    "\n",
    " "
   ]
  },
  {
   "cell_type": "code",
   "execution_count": 48,
   "id": "ce0b0975-c6d5-406d-8737-bab3f0e2ce5d",
   "metadata": {},
   "outputs": [],
   "source": [
    "# finally b;ock will execute in all circumstances\n",
    "# raise keyword is used to raise the exception when it occurs"
   ]
  },
  {
   "cell_type": "markdown",
   "id": "e7246d9d-28b4-4ab3-8247-29cd119d2ade",
   "metadata": {},
   "source": [
    "# Custom Exception.Why do we need it"
   ]
  },
  {
   "cell_type": "code",
   "execution_count": 51,
   "id": "5b50b4c6-a551-4701-ae05-bf405de29c0d",
   "metadata": {},
   "outputs": [],
   "source": [
    "# custom exception is essential while doing coding.To catch errors that we made logically.\n",
    "# Normal exceptions are used to catch system errors\n",
    "# eg:\n",
    "class withdraw(Exception):\n",
    "    def __init__(self,message):\n",
    "        self.message=message"
   ]
  },
  {
   "cell_type": "code",
   "execution_count": 52,
   "id": "89f06648-6c2f-4c6a-9926-e26d03fd7772",
   "metadata": {},
   "outputs": [],
   "source": [
    "def validate_withdraw(amount,bal):\n",
    "     if (amount >bal):\n",
    "            raise withdraw(\"Your balance is not sufficient to withdraw\")"
   ]
  },
  {
   "cell_type": "code",
   "execution_count": 54,
   "id": "29d79f5e-d1a2-4d00-8e4b-447e955c681e",
   "metadata": {},
   "outputs": [
    {
     "name": "stdin",
     "output_type": "stream",
     "text": [
      "Enter the amount to be deposited 5000\n",
      "Ente the amount to withdraw 2341\n"
     ]
    },
    {
     "name": "stdout",
     "output_type": "stream",
     "text": [
      "Your balance amount is 2759\n",
      "Thank you,and Enjoy\n"
     ]
    }
   ],
   "source": [
    "balance_amount=100\n",
    "deposit_amount=int(input(\"Enter the amount to be deposited\"))                     \n",
    "balance_amount=balance_amount+deposit_amount                     \n",
    "try:\n",
    "    withdraw_amount=int(input(\"Ente the amount to withdraw\"))\n",
    "    validate_withdraw(withdraw_amount,balance_amount)\n",
    "except withdraw as e:\n",
    "    print(e)\n",
    "else:\n",
    "    balance_amount=balance_amount-withdraw_amount\n",
    "    print(f\"Your balance amount is {balance_amount}\")\n",
    "    \n",
    "finally:\n",
    "    print(\"Thank you,and Enjoy\")"
   ]
  },
  {
   "cell_type": "markdown",
   "id": "bb871407-e6cd-409d-af03-052d6a40f85c",
   "metadata": {},
   "source": [
    "# Create custom exception Class"
   ]
  },
  {
   "cell_type": "code",
   "execution_count": 57,
   "id": "3fc660e8-2e2f-4c3a-8dfa-7d8e7b791509",
   "metadata": {},
   "outputs": [],
   "source": [
    "class voting_check(Exception):\n",
    "    def __init__(self,message):\n",
    "        self.message=message"
   ]
  },
  {
   "cell_type": "code",
   "execution_count": 58,
   "id": "e016e146-d03a-4935-8dba-a5acd32ccf1a",
   "metadata": {},
   "outputs": [],
   "source": [
    "def voting_age(age):\n",
    "    if(age<18):\n",
    "        raise voting_check(\"you are not eligible for vote because your age is less than 18\")\n",
    "    else:\n",
    "        raise voting_check(f\"You are eligible to vote.your age is {age}\")"
   ]
  },
  {
   "cell_type": "code",
   "execution_count": 59,
   "id": "4acb8de8-c21a-49cc-a242-107b96071071",
   "metadata": {},
   "outputs": [
    {
     "name": "stdout",
     "output_type": "stream",
     "text": [
      "Welcome to Voting eligibility platform\n"
     ]
    },
    {
     "name": "stdin",
     "output_type": "stream",
     "text": [
      "Enter Your Age 23\n"
     ]
    },
    {
     "name": "stdout",
     "output_type": "stream",
     "text": [
      "You are eligible to vote.your age is 23\n"
     ]
    }
   ],
   "source": [
    "print(\"Welcome to Voting eligibility platform\")\n",
    "\n",
    "try:\n",
    "    age=int(input(\"Enter Your Age\"))\n",
    "    voting_age(age)\n",
    "except voting_check as e:\n",
    "    print(e)\n",
    "    "
   ]
  },
  {
   "cell_type": "code",
   "execution_count": null,
   "id": "38ae9ccc-ee36-42b7-b672-1eb04b33e0bd",
   "metadata": {},
   "outputs": [],
   "source": []
  }
 ],
 "metadata": {
  "kernelspec": {
   "display_name": "Python 3 (ipykernel)",
   "language": "python",
   "name": "python3"
  },
  "language_info": {
   "codemirror_mode": {
    "name": "ipython",
    "version": 3
   },
   "file_extension": ".py",
   "mimetype": "text/x-python",
   "name": "python",
   "nbconvert_exporter": "python",
   "pygments_lexer": "ipython3",
   "version": "3.10.8"
  }
 },
 "nbformat": 4,
 "nbformat_minor": 5
}
