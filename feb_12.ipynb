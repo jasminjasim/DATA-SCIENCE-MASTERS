{
 "cells": [
  {
   "cell_type": "markdown",
   "id": "7288f1b8-1bbc-403e-9d6a-7531b3f17094",
   "metadata": {},
   "source": [
    "# Q1. Explain why we have to use the Exception class while creating a Custom Exception."
   ]
  },
  {
   "cell_type": "code",
   "execution_count": 1,
   "id": "dbaa71da-7c2f-4676-b967-72ad2c106d0e",
   "metadata": {},
   "outputs": [],
   "source": [
    "# exception class is used to inherit the difference types of errors in custom exception"
   ]
  },
  {
   "cell_type": "markdown",
   "id": "84f08bcb-44ad-4209-95b5-b7d939e432dc",
   "metadata": {},
   "source": [
    "# Write a python program to print Python Exception Hierarchy."
   ]
  },
  {
   "cell_type": "code",
   "execution_count": 1,
   "id": "4cd34224-e597-4864-a384-bf31012c7d21",
   "metadata": {},
   "outputs": [],
   "source": [
    "import logging\n"
   ]
  },
  {
   "cell_type": "code",
   "execution_count": 2,
   "id": "9a13af57-8795-4b99-84a6-0adefbc3ce6f",
   "metadata": {},
   "outputs": [],
   "source": [
    "logging.basicConfig(filename=\"error.log\",level=logging.ERROR)"
   ]
  },
  {
   "cell_type": "code",
   "execution_count": 6,
   "id": "25b7bf33-26c0-44fb-ae34-dd4a92b7a019",
   "metadata": {},
   "outputs": [],
   "source": [
    "class catch_exception(Exception):\n",
    "    def __init__(self,message):\n",
    "        self.message=message"
   ]
  },
  {
   "cell_type": "code",
   "execution_count": 25,
   "id": "ed0b4231-1562-4869-824c-4e8ed2f09802",
   "metadata": {},
   "outputs": [],
   "source": [
    "\n",
    "\n",
    "def validate_list_int(items):\n",
    "    if items%2!=0:\n",
    "        raise catch_exception(\"the list only accepting even numbers, {} is not an even number\".format(items))\n",
    "    else:\n",
    "        list_int.append(items)"
   ]
  },
  {
   "cell_type": "code",
   "execution_count": 26,
   "id": "10bcd18e-2755-4261-b73a-41f836a0681a",
   "metadata": {},
   "outputs": [
    {
     "name": "stdin",
     "output_type": "stream",
     "text": [
      "Enter the items to append 24\n",
      "Enter the items to append 16\n",
      "Enter the items to append 18\n"
     ]
    },
    {
     "name": "stdout",
     "output_type": "stream",
     "text": [
      "[24, 16, 18]\n",
      "Thank you\n"
     ]
    }
   ],
   "source": [
    "list_int=[]\n",
    "try:\n",
    "    for i in range(3): \n",
    "        items=int(input(\"Enter the items to append\"))\n",
    "        validate_list_int(items)\n",
    "except ValueError as e:\n",
    "    logging.error(\"the valueerror has occurred,expected only integers\")\n",
    "    \n",
    "except catch_exception as e:\n",
    "    logging.error(\"the list only accepting even numbers, {} is not an even number\".format(items))\n",
    "\n",
    "else:\n",
    "     print(list_int)\n",
    "    \n",
    "finally:\n",
    "    print(\"Thank you\")\n"
   ]
  },
  {
   "cell_type": "markdown",
   "id": "f666babb-fdbe-48ce-90ae-f83db0ada7b4",
   "metadata": {},
   "source": [
    "# What errors are defined in the ArithmeticError class? Explain any two with an example."
   ]
  },
  {
   "cell_type": "code",
   "execution_count": 28,
   "id": "6e580457-675d-4cf1-90b9-4c72069a1ffe",
   "metadata": {},
   "outputs": [
    {
     "ename": "ZeroDivisionError",
     "evalue": "division by zero",
     "output_type": "error",
     "traceback": [
      "\u001b[0;31m---------------------------------------------------------------------------\u001b[0m",
      "\u001b[0;31mZeroDivisionError\u001b[0m                         Traceback (most recent call last)",
      "Cell \u001b[0;32mIn[28], line 5\u001b[0m\n\u001b[1;32m      3\u001b[0m a\u001b[38;5;241m=\u001b[39m\u001b[38;5;241m10\u001b[39m\n\u001b[1;32m      4\u001b[0m b\u001b[38;5;241m=\u001b[39m\u001b[38;5;241m0\u001b[39m\n\u001b[0;32m----> 5\u001b[0m result\u001b[38;5;241m=\u001b[39m\u001b[43ma\u001b[49m\u001b[38;5;241;43m/\u001b[39;49m\u001b[43mb\u001b[49m\n",
      "\u001b[0;31mZeroDivisionError\u001b[0m: division by zero"
     ]
    }
   ],
   "source": [
    "# Exception is the base class of all types of error.But for some arithematicError class handles mainly divisionbyzero error,\n",
    "# floatingpoint error and overflow error.Lets discuss with an example\n",
    "a=10\n",
    "b=0\n",
    "result=a/b"
   ]
  },
  {
   "cell_type": "code",
   "execution_count": 40,
   "id": "645342c8-e424-4841-ae92-3716d17f5583",
   "metadata": {},
   "outputs": [
    {
     "ename": "KeyboardInterrupt",
     "evalue": "",
     "output_type": "error",
     "traceback": [
      "\u001b[0;31m---------------------------------------------------------------------------\u001b[0m",
      "\u001b[0;31mKeyboardInterrupt\u001b[0m                         Traceback (most recent call last)",
      "Cell \u001b[0;32mIn[40], line 7\u001b[0m\n\u001b[1;32m      5\u001b[0m \u001b[38;5;28;01mtry\u001b[39;00m:\n\u001b[1;32m      6\u001b[0m     \u001b[38;5;28;01mfor\u001b[39;00m i \u001b[38;5;129;01min\u001b[39;00m \u001b[38;5;28mrange\u001b[39m(\u001b[38;5;241m1\u001b[39m, \u001b[38;5;241m1000\u001b[39m):\n\u001b[0;32m----> 7\u001b[0m         ans \u001b[38;5;241m=\u001b[39m \u001b[43mans\u001b[49m\u001b[38;5;241;43m*\u001b[39;49m\u001b[38;5;241;43m*\u001b[39;49m\u001b[43mi\u001b[49m\n\u001b[1;32m      8\u001b[0m \u001b[38;5;28;01mexcept\u001b[39;00m \u001b[38;5;167;01mArithmeticError\u001b[39;00m \u001b[38;5;28;01mas\u001b[39;00m e:\n\u001b[1;32m      9\u001b[0m     \u001b[38;5;28mprint\u001b[39m(e)\n",
      "\u001b[0;31mKeyboardInterrupt\u001b[0m: "
     ]
    }
   ],
   "source": [
    "\n",
    "a=10000000\n",
    "\n",
    "b=30000000**2\n",
    "ans=(a*b)\n",
    "try:\n",
    "    for i in range(1, 1000):\n",
    "        ans = ans**i\n",
    "except ArithmeticError as e:\n",
    "    print(e)\n"
   ]
  },
  {
   "cell_type": "markdown",
   "id": "0112e5e1-0c64-40ca-b747-0a3408c05bfb",
   "metadata": {},
   "source": [
    "# Why LookupError class is used? Explain with an example KeyError and IndexError."
   ]
  },
  {
   "cell_type": "code",
   "execution_count": 57,
   "id": "83524898-adf9-4a31-a6a8-1bfa6a16be2f",
   "metadata": {},
   "outputs": [
    {
     "name": "stdout",
     "output_type": "stream",
     "text": [
      "Key error has occured\n"
     ]
    }
   ],
   "source": [
    "#lookuperror class is used to catch the exce[ption regarding key in the dictionary and index of any datastructure.\n",
    "dict1={'name':\"jasmin\",'age': 38,'state':'kerala'}\n",
    "try: \n",
    "    print(dict1['name1'])\n",
    "except KeyError as e:\n",
    "    print(\"Key error has occured\")"
   ]
  },
  {
   "cell_type": "code",
   "execution_count": 61,
   "id": "09b01802-f213-470e-b545-c57d449e8a28",
   "metadata": {},
   "outputs": [
    {
     "name": "stdout",
     "output_type": "stream",
     "text": [
      "Index error has occured\n"
     ]
    }
   ],
   "source": [
    "try:  \n",
    "    a = [4,5,7]  \n",
    "    print (a[10])  \n",
    "except IndexError as e:\n",
    "    print(\"Index error has occured\")"
   ]
  },
  {
   "cell_type": "markdown",
   "id": "0fbe5638-3f96-4d90-9244-7eed2e57a415",
   "metadata": {},
   "source": [
    "# Explain ImportError. What is ModuleNotFoundError?"
   ]
  },
  {
   "cell_type": "code",
   "execution_count": 65,
   "id": "55d80f90-9e71-4851-9a68-e8ee6d02519e",
   "metadata": {},
   "outputs": [
    {
     "name": "stdout",
     "output_type": "stream",
     "text": [
      "ImportError,module not exists\n"
     ]
    }
   ],
   "source": [
    "# importError occured when trying import the module that doesn't exists.\n",
    "\n",
    "try:\n",
    "    import hello\n",
    "except ModuleNotFoundError as e:\n",
    "    print(\"ImportError,module not exists\")\n"
   ]
  },
  {
   "cell_type": "markdown",
   "id": "136e5306-75a1-48df-b911-296909ac8878",
   "metadata": {},
   "source": [
    "# Q6. List down some best practices for exception handling in python."
   ]
  },
  {
   "cell_type": "code",
   "execution_count": 66,
   "id": "cc39aee4-19b4-496d-bdc0-ded8464bec30",
   "metadata": {},
   "outputs": [],
   "source": [
    "# always perform exception handling to identify what type of error has occured if any of the statement is suspicious to us.Also \n",
    "# its importnat to perform custom exception if we are not excepting some conditions not to happen in the project\n",
    "# try to follow the exception handling hierarchy try,except,else and finally\n",
    "# Also as a best practice always log the error while performing exceptions using logging module."
   ]
  },
  {
   "cell_type": "code",
   "execution_count": null,
   "id": "9e154c0a-7e47-442f-8b7d-6d673905b51f",
   "metadata": {},
   "outputs": [],
   "source": []
  }
 ],
 "metadata": {
  "kernelspec": {
   "display_name": "Python 3 (ipykernel)",
   "language": "python",
   "name": "python3"
  },
  "language_info": {
   "codemirror_mode": {
    "name": "ipython",
    "version": 3
   },
   "file_extension": ".py",
   "mimetype": "text/x-python",
   "name": "python",
   "nbconvert_exporter": "python",
   "pygments_lexer": "ipython3",
   "version": "3.10.8"
  }
 },
 "nbformat": 4,
 "nbformat_minor": 5
}
