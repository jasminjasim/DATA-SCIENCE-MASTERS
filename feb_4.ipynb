{
 "cells": [
  {
   "cell_type": "markdown",
   "id": "2e140414-280c-4c69-a157-3f69aaea3c33",
   "metadata": {},
   "source": [
    "# Q1. Create a python program to sort the given list of tuples based on integer value using a lambda function.\n",
    "* [('Sachin Tendulkar', 34357), ('Ricky Ponting', 27483), ('Jack Kallis', 25534), ('Virat Kohli', 24936)]"
   ]
  },
  {
   "cell_type": "code",
   "execution_count": 10,
   "id": "508d7530-4a5a-4631-bded-678f1528ed67",
   "metadata": {},
   "outputs": [],
   "source": [
    "list1=[('Sachin Tendulkar', 34357), ('Ricky Ponting', 27483), ('Jack Kallis', 25534), ('Virat Kohli', 24936)]"
   ]
  },
  {
   "cell_type": "code",
   "execution_count": 11,
   "id": "775f66c7-f5c9-485c-8679-f6bd6a2fec6c",
   "metadata": {},
   "outputs": [
    {
     "data": {
      "text/plain": [
       "34357"
      ]
     },
     "execution_count": 11,
     "metadata": {},
     "output_type": "execute_result"
    }
   ],
   "source": [
    "list1[0][1]"
   ]
  },
  {
   "cell_type": "code",
   "execution_count": 59,
   "id": "af3ee403-b9dd-493e-834d-a7f279698ef2",
   "metadata": {},
   "outputs": [],
   "source": [
    "sorted_tuple=lambda x: x[1]"
   ]
  },
  {
   "cell_type": "code",
   "execution_count": 60,
   "id": "914da9aa-a1e0-4206-bb20-9a8197eef96d",
   "metadata": {},
   "outputs": [
    {
     "name": "stdout",
     "output_type": "stream",
     "text": [
      "('Jack Kallis', 25534)\n",
      "('Jack Kallis', 25534)\n",
      "('Jack Kallis', 25534)\n",
      "('Jack Kallis', 25534)\n"
     ]
    }
   ],
   "source": [
    "for i in range(len(list1)):\n",
    "    go_sort=sorted_tuple(list1)\n",
    "    print(go_sort)"
   ]
  },
  {
   "cell_type": "code",
   "execution_count": 57,
   "id": "253c8c28-f276-452d-8438-67e99f356b03",
   "metadata": {},
   "outputs": [],
   "source": [
    "list1.sort(key=lambda x: x[1])"
   ]
  },
  {
   "cell_type": "code",
   "execution_count": 58,
   "id": "ede6cf46-b858-4b4e-881c-0fee80f6e493",
   "metadata": {},
   "outputs": [
    {
     "data": {
      "text/plain": [
       "[('Virat Kohli', 24936),\n",
       " ('Jack Kallis', 25534),\n",
       " ('Ricky Ponting', 27483),\n",
       " ('Sachin Tendulkar', 34357)]"
      ]
     },
     "execution_count": 58,
     "metadata": {},
     "output_type": "execute_result"
    }
   ],
   "source": [
    "list1"
   ]
  },
  {
   "cell_type": "markdown",
   "id": "b9ae90d3-8478-481d-986a-6af455c06ea1",
   "metadata": {},
   "source": [
    "# Q2. Write a Python Program to find the squares of all the numbers in the given list of integers using lambda and map functions.\n",
    "# [1, 2, 3, 4, 5, 6, 7, 8, 9, 10]"
   ]
  },
  {
   "cell_type": "code",
   "execution_count": 61,
   "id": "75386ceb-9ac0-469b-b014-c3bac49b96c4",
   "metadata": {},
   "outputs": [],
   "source": [
    "list1=[1, 2, 3, 4, 5, 6, 7, 8, 9, 10]"
   ]
  },
  {
   "cell_type": "code",
   "execution_count": 62,
   "id": "3966a591-ab62-450d-b567-209924cecb6a",
   "metadata": {},
   "outputs": [
    {
     "data": {
      "text/plain": [
       "[1, 4, 9, 16, 25, 36, 49, 64, 81, 100]"
      ]
     },
     "execution_count": 62,
     "metadata": {},
     "output_type": "execute_result"
    }
   ],
   "source": [
    "list(map(lambda x:x**2,list1))"
   ]
  },
  {
   "cell_type": "markdown",
   "id": "d26e6b97-a107-44b7-8a2a-41d170775f00",
   "metadata": {},
   "source": [
    "# Q3. Write a python program to convert the given list of integers into a tuple of strings. Use map and lambda functions\n",
    "# Given String: [1, 2, 3, 4, 5, 6, 7, 8, 9, 10]\n",
    "# Expected output: ('1', '2', '3', '4', '5', '6', '7', '8', '9', '10')"
   ]
  },
  {
   "cell_type": "code",
   "execution_count": 63,
   "id": "4a3b3ded-0451-49a8-a07d-f8daefa4a200",
   "metadata": {},
   "outputs": [],
   "source": [
    "list1=[1, 2, 3, 4, 5, 6, 7, 8, 9, 10]"
   ]
  },
  {
   "cell_type": "code",
   "execution_count": 64,
   "id": "70183fa2-e0cb-46c9-be15-01e88c4004e0",
   "metadata": {},
   "outputs": [
    {
     "data": {
      "text/plain": [
       "('1', '2', '3', '4', '5', '6', '7', '8', '9', '10')"
      ]
     },
     "execution_count": 64,
     "metadata": {},
     "output_type": "execute_result"
    }
   ],
   "source": [
    "tuple(list(map(lambda x:str(x),list1)))"
   ]
  },
  {
   "cell_type": "markdown",
   "id": "eb557a46-6ec5-4f80-b0d7-4a52633c07e6",
   "metadata": {},
   "source": [
    "# Q4. Write a python program using reduce function to compute the product of a list containing numbers from 1 to 25."
   ]
  },
  {
   "cell_type": "code",
   "execution_count": 66,
   "id": "f07512a7-2fb5-46a8-8b80-47c900870ea4",
   "metadata": {},
   "outputs": [],
   "source": [
    "from functools import reduce"
   ]
  },
  {
   "cell_type": "code",
   "execution_count": 70,
   "id": "e3a65d01-1c9a-494f-914a-c7c6870233f3",
   "metadata": {},
   "outputs": [],
   "source": [
    "list1=[]\n",
    "for i in range(1,26):\n",
    "    \n",
    "    list1.append(i)\n"
   ]
  },
  {
   "cell_type": "code",
   "execution_count": 71,
   "id": "20fbc224-ba34-47e1-a3d3-c02108cb68e0",
   "metadata": {},
   "outputs": [
    {
     "data": {
      "text/plain": [
       "15511210043330985984000000"
      ]
     },
     "execution_count": 71,
     "metadata": {},
     "output_type": "execute_result"
    }
   ],
   "source": [
    "reduce(lambda x,y:x*y,list1)"
   ]
  },
  {
   "cell_type": "markdown",
   "id": "7fc7019c-9807-40e5-83aa-7ee85c1db46a",
   "metadata": {},
   "source": [
    "# Q5. Write a python program to filter the numbers in a given list that are divisible by 2 and 3 using thefilter function.\n",
    "# [2, 3, 6, 9, 27, 60, 90, 120, 55, 46]"
   ]
  },
  {
   "cell_type": "code",
   "execution_count": 75,
   "id": "f2b90a21-6ceb-4bb4-90be-6a710098d177",
   "metadata": {},
   "outputs": [],
   "source": [
    "list2=[2, 3, 6, 9, 27, 60, 90, 120, 55, 46]"
   ]
  },
  {
   "cell_type": "code",
   "execution_count": 76,
   "id": "e5b35cdb-e94d-424a-b4a0-2d6218628575",
   "metadata": {},
   "outputs": [
    {
     "data": {
      "text/plain": [
       "[6, 60, 90, 120]"
      ]
     },
     "execution_count": 76,
     "metadata": {},
     "output_type": "execute_result"
    }
   ],
   "source": [
    "list(filter(lambda x:x%2==0 and x%3==0, list2))"
   ]
  },
  {
   "cell_type": "markdown",
   "id": "f40f5efd-e77b-46fe-a448-e7021098c4dd",
   "metadata": {},
   "source": [
    "# Q6. Write a python program to find palindromes in the given list of strings using lambda and filter function.\n",
    "# ['python', 'php', 'aba', 'radar', 'level']"
   ]
  },
  {
   "cell_type": "code",
   "execution_count": 86,
   "id": "646a1b8d-9b39-471f-b0f2-ced49921979c",
   "metadata": {},
   "outputs": [],
   "source": [
    "list3=['python', 'php', 'aba', 'radar', 'level']"
   ]
  },
  {
   "cell_type": "code",
   "execution_count": 94,
   "id": "4b78e3da-ad7f-4b6a-a6d0-d4a207e8015a",
   "metadata": {},
   "outputs": [
    {
     "data": {
      "text/plain": [
       "['php', 'aba', 'radar', 'level']"
      ]
     },
     "execution_count": 94,
     "metadata": {},
     "output_type": "execute_result"
    }
   ],
   "source": [
    "list(filter(lambda x: x==''.join(reversed(x)),list3))"
   ]
  },
  {
   "cell_type": "code",
   "execution_count": null,
   "id": "38eed82d-4e25-4a11-b13c-4b1eee345b9f",
   "metadata": {},
   "outputs": [],
   "source": []
  },
  {
   "cell_type": "code",
   "execution_count": null,
   "id": "b2ec8aeb-8780-47ad-8c15-0373d0ef71b8",
   "metadata": {},
   "outputs": [],
   "source": []
  }
 ],
 "metadata": {
  "kernelspec": {
   "display_name": "Python 3 (ipykernel)",
   "language": "python",
   "name": "python3"
  },
  "language_info": {
   "codemirror_mode": {
    "name": "ipython",
    "version": 3
   },
   "file_extension": ".py",
   "mimetype": "text/x-python",
   "name": "python",
   "nbconvert_exporter": "python",
   "pygments_lexer": "ipython3",
   "version": "3.10.8"
  }
 },
 "nbformat": 4,
 "nbformat_minor": 5
}
