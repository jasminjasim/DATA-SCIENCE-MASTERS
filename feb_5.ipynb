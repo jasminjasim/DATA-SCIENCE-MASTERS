{
 "cells": [
  {
   "cell_type": "markdown",
   "id": "c87dfbb7-d6c5-4cae-9bce-856fc0999002",
   "metadata": {},
   "source": [
    "# Explain Class and Object with respect to Object-Oriented Programming. Give a suitable example."
   ]
  },
  {
   "cell_type": "code",
   "execution_count": 1,
   "id": "2724cd32-898f-40ce-be36-42269b5d0dd4",
   "metadata": {},
   "outputs": [],
   "source": [
    "# class is a blueprint of an object that means object is the instance of it.we can create any number of objects for eg:\n",
    "class School:\n",
    "    def __init__(self,stud,staf):\n",
    "        self.students=stud\n",
    "        self.staff=staf\n",
    "        \n",
    "    def school_details(self):\n",
    "        return(self.students,self.staff)\n",
    "    "
   ]
  },
  {
   "cell_type": "code",
   "execution_count": 4,
   "id": "36a37baf-4afe-45e7-b857-e8320106743c",
   "metadata": {},
   "outputs": [
    {
     "data": {
      "text/plain": [
       "('UG', 'Teaching_faculty')"
      ]
     },
     "execution_count": 4,
     "metadata": {},
     "output_type": "execute_result"
    }
   ],
   "source": [
    "office=School('UG','Teaching_faculty')\n",
    "office.school_details()"
   ]
  },
  {
   "cell_type": "markdown",
   "id": "75d5dbcd-ca80-4ea9-9583-69df03c839ed",
   "metadata": {},
   "source": [
    "# Q2. Name the four pillars of OOPs."
   ]
  },
  {
   "cell_type": "code",
   "execution_count": 5,
   "id": "867390a9-244f-464d-b834-a9e604b37b0b",
   "metadata": {},
   "outputs": [],
   "source": [
    "# Inheritance,Polymorphism,abstraction,Encapsulation"
   ]
  },
  {
   "cell_type": "markdown",
   "id": "2d2f7a3b-3f24-4a26-8f59-2e8b1ebd22ba",
   "metadata": {},
   "source": [
    "# Q3. Explain why the __init__() function is used. Give a suitable example."
   ]
  },
  {
   "cell_type": "code",
   "execution_count": 6,
   "id": "73c5485a-4c67-48c9-ab23-90fc8d7f44f1",
   "metadata": {},
   "outputs": [],
   "source": [
    "# __init__ is a constructor used to create objects with suitable parameters\n",
    "class School:\n",
    "    def __init__(self,stud,staf):\n",
    "        self.students=stud\n",
    "        self.staff=staf\n",
    "        \n",
    "    def school_details(self):\n",
    "        return(self.students,self.staff)"
   ]
  },
  {
   "cell_type": "code",
   "execution_count": 7,
   "id": "116a59d3-6262-447a-ab3b-59319e3791ec",
   "metadata": {},
   "outputs": [
    {
     "data": {
      "text/plain": [
       "('UG', 'Teaching_faculty')"
      ]
     },
     "execution_count": 7,
     "metadata": {},
     "output_type": "execute_result"
    }
   ],
   "source": [
    "office=School('UG','Teaching_faculty')\n",
    "office.school_details()"
   ]
  },
  {
   "cell_type": "markdown",
   "id": "c3c8c494-4dc7-4820-8576-cb9a883aa910",
   "metadata": {},
   "source": [
    "# Q4. Why self is used in OOPs?"
   ]
  },
  {
   "cell_type": "code",
   "execution_count": 8,
   "id": "fc93f5db-44b2-4e68-982f-e87f04bf966c",
   "metadata": {},
   "outputs": [],
   "source": [
    "# it's the self reference of the class itself"
   ]
  },
  {
   "cell_type": "markdown",
   "id": "d0f324b3-6425-4c98-9eb4-6670c0b97abb",
   "metadata": {},
   "source": [
    "# Q5. What is inheritance? Give an example for each type of inheritance."
   ]
  },
  {
   "cell_type": "code",
   "execution_count": null,
   "id": "cf3b8fad-0fd1-4aec-9e05-21883234a370",
   "metadata": {},
   "outputs": [],
   "source": [
    "Inheriting the property from one class to another \n"
   ]
  }
 ],
 "metadata": {
  "kernelspec": {
   "display_name": "Python 3 (ipykernel)",
   "language": "python",
   "name": "python3"
  },
  "language_info": {
   "codemirror_mode": {
    "name": "ipython",
    "version": 3
   },
   "file_extension": ".py",
   "mimetype": "text/x-python",
   "name": "python",
   "nbconvert_exporter": "python",
   "pygments_lexer": "ipython3",
   "version": "3.10.8"
  }
 },
 "nbformat": 4,
 "nbformat_minor": 5
}
