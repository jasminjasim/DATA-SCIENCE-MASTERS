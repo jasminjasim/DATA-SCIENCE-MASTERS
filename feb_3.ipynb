{
 "cells": [
  {
   "cell_type": "markdown",
   "id": "393052fd-09b8-4293-b6ca-3ef7cdccbfac",
   "metadata": {},
   "source": [
    "# Q1. Which keyword is used to create a function? Create a function to return a list of odd numbers in the range of 1 to 25."
   ]
  },
  {
   "cell_type": "code",
   "execution_count": null,
   "id": "c3cc8f64-be23-475b-901c-1a5e459ad889",
   "metadata": {},
   "outputs": [],
   "source": [
    "# def keyword is used to create a function\n"
   ]
  },
  {
   "cell_type": "code",
   "execution_count": 1,
   "id": "37fcad91-565a-49b8-903f-e5ec4d80c1db",
   "metadata": {},
   "outputs": [],
   "source": [
    "def odd_number():\n",
    "    for i in range (1,26):\n",
    "        if i%2!=0:\n",
    "            print(i)"
   ]
  },
  {
   "cell_type": "code",
   "execution_count": 2,
   "id": "3149c1e6-f25d-4ebd-a435-d921afaa18da",
   "metadata": {},
   "outputs": [
    {
     "name": "stdout",
     "output_type": "stream",
     "text": [
      "1\n",
      "3\n",
      "5\n",
      "7\n",
      "9\n",
      "11\n",
      "13\n",
      "15\n",
      "17\n",
      "19\n",
      "21\n",
      "23\n",
      "25\n"
     ]
    }
   ],
   "source": [
    "odd_number()"
   ]
  },
  {
   "cell_type": "markdown",
   "id": "2ad2b91c-9fa1-4287-8383-9dcdc6f537d0",
   "metadata": {},
   "source": [
    "# Q2. Why *args and **kwargs is used in some functions? Create a function each for *args and **kwargs to demonstrate their use."
   ]
  },
  {
   "cell_type": "code",
   "execution_count": 47,
   "id": "ee38db2f-158a-4362-b1b3-b380c82c42a3",
   "metadata": {},
   "outputs": [],
   "source": [
    "# *args are used to accept multiple parameters\n",
    "# **kwargs are used to accept multiple key value arguments\n",
    "# eg:\n",
    "def sum_add(*args):\n",
    "   \n",
    "    for i in args:  \n",
    "        return(i)\n",
    "        \n",
    "    "
   ]
  },
  {
   "cell_type": "code",
   "execution_count": 48,
   "id": "ecd52f01-29a8-4e16-98be-adcc539455dd",
   "metadata": {},
   "outputs": [
    {
     "name": "stdin",
     "output_type": "stream",
     "text": [
      "enter a limit 2\n",
      "enter numbers 1\n",
      "enter numbers 42\n"
     ]
    },
    {
     "data": {
      "text/plain": [
       "[1, 42]"
      ]
     },
     "execution_count": 48,
     "metadata": {},
     "output_type": "execute_result"
    }
   ],
   "source": [
    "a=int(input(\"enter a limit\"))\n",
    "i=0\n",
    "b=[]\n",
    "while(i<a):\n",
    "    \n",
    "    b.append( int(input(\"enter numbers\")))\n",
    "    i=i+1\n",
    "\n",
    "sum_add(b)"
   ]
  },
  {
   "cell_type": "code",
   "execution_count": 27,
   "id": "df04b3b9-1100-4fcd-9809-47b35dc11148",
   "metadata": {},
   "outputs": [],
   "source": [
    "def dict_form(**kwargs):\n",
    "    list_new=[]\n",
    "    for i in kwargs:\n",
    "        if type(kwargs[i])== int:\n",
    "            list_new.append(i)\n",
    "            list_new.append(kwargs[i])\n",
    "            return list_new \n",
    "    \n",
    "    "
   ]
  },
  {
   "cell_type": "code",
   "execution_count": 28,
   "id": "9560d316-9447-49ba-ac31-30898638e541",
   "metadata": {},
   "outputs": [],
   "source": [
    "a=dict_form(id=1234,name='jasmin')"
   ]
  },
  {
   "cell_type": "code",
   "execution_count": 29,
   "id": "4ecfa77b-05c5-49f8-8abb-745e3aadfd37",
   "metadata": {},
   "outputs": [
    {
     "ename": "AttributeError",
     "evalue": "'list' object has no attribute 'keys'",
     "output_type": "error",
     "traceback": [
      "\u001b[0;31m---------------------------------------------------------------------------\u001b[0m",
      "\u001b[0;31mAttributeError\u001b[0m                            Traceback (most recent call last)",
      "Cell \u001b[0;32mIn[29], line 1\u001b[0m\n\u001b[0;32m----> 1\u001b[0m \u001b[38;5;28mprint\u001b[39m(\u001b[43ma\u001b[49m\u001b[38;5;241;43m.\u001b[39;49m\u001b[43mkeys\u001b[49m())\n",
      "\u001b[0;31mAttributeError\u001b[0m: 'list' object has no attribute 'keys'"
     ]
    }
   ],
   "source": [
    "print(a.keys())"
   ]
  },
  {
   "cell_type": "markdown",
   "id": "df0ba28e-c4a9-4e32-a72d-9f77bcfb75b9",
   "metadata": {},
   "source": [
    "# Q3. What is an iterator in python? Name the method used to initialise the iterator object and the method used for iteration. Use these methods to print the first five elements of the given list [2, 4, 6, 8, 10, 12, 14, 16,\n",
    "18, 20]."
   ]
  },
  {
   "cell_type": "code",
   "execution_count": null,
   "id": "44609963-6a0f-418d-9e3b-663bbae91066",
   "metadata": {},
   "outputs": [],
   "source": [
    "iterator in python ii used to iterate throught some collections."
   ]
  },
  {
   "cell_type": "code",
   "execution_count": 70,
   "id": "e280cc80-01a8-4de6-9d14-0bb7ce8fdda5",
   "metadata": {},
   "outputs": [],
   "source": [
    "list_new=[2, 4, 6, 8, 10, 12, 14, 16, 18, 20]"
   ]
  },
  {
   "cell_type": "code",
   "execution_count": 79,
   "id": "516ba1f0-a50f-4b7e-be9c-722777686d87",
   "metadata": {},
   "outputs": [
    {
     "name": "stdout",
     "output_type": "stream",
     "text": [
      "[2, 4, 6, 8, 10]\n"
     ]
    }
   ],
   "source": [
    "iterator=iter(list_new)\n",
    "\n",
    "a=[]\n",
    "for i in iterator:\n",
    "       \n",
    "        if len(a)<5:\n",
    "            a.append(i)\n",
    "print(a)\n",
    "            "
   ]
  },
  {
   "cell_type": "markdown",
   "id": "050a0fcc-65a4-4b2d-8f82-d74aa5476d23",
   "metadata": {},
   "source": [
    "# Q4. What is a generator function in python? Why yield keyword is used? Give an example of a generator function."
   ]
  },
  {
   "cell_type": "code",
   "execution_count": 80,
   "id": "83a8b6c4-78aa-4d7e-a30e-01e503071a2a",
   "metadata": {},
   "outputs": [],
   "source": [
    "#To generate a numbers using range gunction we need to use for loop along with it.\n",
    "#but instaed we can use generator function where yield can memorize the items that needs to be printed."
   ]
  },
  {
   "cell_type": "code",
   "execution_count": 87,
   "id": "c328f3ed-4d3f-42ed-989f-d06dbaac26bd",
   "metadata": {},
   "outputs": [],
   "source": [
    "def add_pre(list1):\n",
    "    a,b=0,1\n",
    "    for i in list1:\n",
    "        yield a,b\n",
    "        a=i+b\n",
    "        b=2*i"
   ]
  },
  {
   "cell_type": "code",
   "execution_count": 88,
   "id": "95383204-3358-40a3-8aa7-51c658394cfe",
   "metadata": {},
   "outputs": [],
   "source": [
    "list=[1,2,3,4,4,5,6,7,8]"
   ]
  },
  {
   "cell_type": "code",
   "execution_count": 89,
   "id": "1d063f1d-c45f-40d6-bfb4-739278d945e7",
   "metadata": {},
   "outputs": [
    {
     "name": "stdout",
     "output_type": "stream",
     "text": [
      "(0, 1)\n",
      "(2, 2)\n",
      "(4, 4)\n",
      "(7, 6)\n",
      "(10, 8)\n",
      "(12, 8)\n",
      "(13, 10)\n",
      "(16, 12)\n",
      "(19, 14)\n"
     ]
    }
   ],
   "source": [
    " for i in add_pre(list):\n",
    "        print(i)"
   ]
  },
  {
   "cell_type": "markdown",
   "id": "1fd20933-64c5-4372-828e-7392b0e517f2",
   "metadata": {},
   "source": [
    "# Q5. Create a generator function for prime numbers less than 1000. Use the next() method to print the first 20 prime numbers."
   ]
  },
  {
   "cell_type": "code",
   "execution_count": 3,
   "id": "fbb10f9d-b689-4a9e-ba44-c6fe2b047722",
   "metadata": {},
   "outputs": [
    {
     "name": "stdin",
     "output_type": "stream",
     "text": [
      "Ente the limit 0\n"
     ]
    }
   ],
   "source": [
    "limit=int(input(\"Ente the limit\"))\n",
    "    "
   ]
  },
  {
   "cell_type": "code",
   "execution_count": 17,
   "id": "75f2c0ee-9200-441e-bbe0-f63daf2ba290",
   "metadata": {},
   "outputs": [],
   "source": [
    "def generator_prime(numbers):\n",
    "    list_prime=[]\n",
    "    for i in range(2,numbers//2+1):\n",
    "        if i%2==0:\n",
    "            continue\n",
    "        else:\n",
    "            yield i\n",
    "    return(list_num.append(i))"
   ]
  },
  {
   "cell_type": "code",
   "execution_count": 25,
   "id": "9a42158c-c753-423e-aacc-6f15074886b5",
   "metadata": {},
   "outputs": [
    {
     "name": "stdin",
     "output_type": "stream",
     "text": [
      "Ente the limit 1000\n"
     ]
    }
   ],
   "source": [
    "limit=int(input(\"Ente the limit\"))\n"
   ]
  },
  {
   "cell_type": "code",
   "execution_count": 26,
   "id": "98f12fda-e5fc-460a-81e9-04e81dff041d",
   "metadata": {},
   "outputs": [
    {
     "name": "stdout",
     "output_type": "stream",
     "text": [
      "3\n",
      "5\n",
      "7\n",
      "9\n",
      "11\n",
      "13\n",
      "15\n",
      "17\n",
      "19\n",
      "21\n",
      "23\n",
      "25\n",
      "27\n",
      "29\n",
      "31\n",
      "33\n",
      "35\n",
      "37\n",
      "39\n",
      "41\n",
      "43\n"
     ]
    }
   ],
   "source": [
    "list_num=generator_prime(limit)\n",
    "for i in range(21):\n",
    "    i=next(list_num)\n",
    "    print(i)\n",
    "\n",
    "\n",
    "    "
   ]
  },
  {
   "cell_type": "code",
   "execution_count": null,
   "id": "2fc00715-e523-4425-9ef2-959a5b8e4c04",
   "metadata": {},
   "outputs": [],
   "source": []
  }
 ],
 "metadata": {
  "kernelspec": {
   "display_name": "Python 3 (ipykernel)",
   "language": "python",
   "name": "python3"
  },
  "language_info": {
   "codemirror_mode": {
    "name": "ipython",
    "version": 3
   },
   "file_extension": ".py",
   "mimetype": "text/x-python",
   "name": "python",
   "nbconvert_exporter": "python",
   "pygments_lexer": "ipython3",
   "version": "3.10.8"
  }
 },
 "nbformat": 4,
 "nbformat_minor": 5
}
