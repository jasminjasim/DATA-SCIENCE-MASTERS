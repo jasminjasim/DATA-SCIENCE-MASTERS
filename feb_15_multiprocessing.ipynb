{
 "cells": [
  {
   "cell_type": "markdown",
   "id": "4ebcbb5f-3b3d-408e-aa56-9b1aa20f24cc",
   "metadata": {},
   "source": [
    "# What is multiprocessing in python? Why is it useful?"
   ]
  },
  {
   "cell_type": "code",
   "execution_count": 2,
   "id": "32ddf5b4-6a64-4688-af04-f648e6f1e402",
   "metadata": {},
   "outputs": [],
   "source": [
    "# Multiple processor are doing a process simultaneously and accumulate the result to us.\n",
    "# It will reduce the time and improve the performance"
   ]
  },
  {
   "cell_type": "markdown",
   "id": "a3dbcb1d-af60-420e-8a34-eea6beb230e0",
   "metadata": {},
   "source": [
    "# What are the differences between multiprocessing and multithreading?"
   ]
  },
  {
   "cell_type": "code",
   "execution_count": 3,
   "id": "e0962ff5-8207-442b-987f-b13ee01d1783",
   "metadata": {},
   "outputs": [],
   "source": [
    "# multiprocessing is the concept of doing a process by different processors simultaneously.\n",
    "# Whereas multithreading is the concept of dividing single process into multiple threads in a single processor\n"
   ]
  },
  {
   "cell_type": "markdown",
   "id": "57b37e71-67cc-4e65-8b0c-0bb2ff1ab2e7",
   "metadata": {},
   "source": [
    "# Write a python code to create a process using the multiprocessing module."
   ]
  },
  {
   "cell_type": "code",
   "execution_count": 22,
   "id": "346ff49a-c918-4a17-baaf-7cb1277d6224",
   "metadata": {},
   "outputs": [
    {
     "name": "stdout",
     "output_type": "stream",
     "text": [
      "1\n",
      "8\n",
      "27\n",
      "64\n",
      "125\n",
      "[<Process name='Process-14' pid=595 parent=78 started>]\n"
     ]
    }
   ],
   "source": [
    "import multiprocessing\n",
    "list=[1,2,3,4,5]\n",
    "def cube(i):\n",
    "    for n in i: \n",
    "        print( n**3)\n",
    "\n",
    "if __name__=='__main__':\n",
    "    cube_list=[]\n",
    "    m1=multiprocessing.Process(target=cube,args=(list, )) \n",
    "    cube_list.append(m1)\n",
    "    m1.start()\n",
    "    print(cube_list)\n",
    "    m1.join()"
   ]
  },
  {
   "cell_type": "markdown",
   "id": "dbff688a-e116-4ea9-b526-547be4c1db54",
   "metadata": {},
   "source": [
    "# Q4. What is a multiprocessing pool in python? Why is it used?"
   ]
  },
  {
   "cell_type": "code",
   "execution_count": 23,
   "id": "2be210a9-0958-4ffe-b2e9-e4f97649ef8a",
   "metadata": {},
   "outputs": [],
   "source": [
    "# to create a pool of processes so that a job will be executed by multiple processor and accumulate the result to us\n",
    "# It is useful for the better performance and efficinet ultilization of memory"
   ]
  },
  {
   "cell_type": "markdown",
   "id": "118f1d20-338f-4d13-b770-f8e3dbf16b86",
   "metadata": {},
   "source": [
    "# How can we create a pool of worker processes in python using the multiprocessing module?"
   ]
  },
  {
   "cell_type": "code",
   "execution_count": 36,
   "id": "fc5a1a1e-632c-459b-991d-795201e135cc",
   "metadata": {},
   "outputs": [
    {
     "name": "stdout",
     "output_type": "stream",
     "text": [
      "[None, 2, None, 4, None, 6, None, 8, None]\n",
      "[1, None, 3, None, 5, None, 7, None, 9]\n"
     ]
    }
   ],
   "source": [
    "import multiprocessing\n",
    "\n",
    "def even(l):\n",
    "        if l%2==0:\n",
    "            return(l)\n",
    "            \n",
    "def odd(l):\n",
    "        if l%2!=0:\n",
    "            return(l)\n",
    "if __name__==\"__main__\":\n",
    "     with multiprocessing.Pool(processes=7) as pool:\n",
    "        even_list=pool.map(even,[1,2,3,4,5,6,7,8,9])\n",
    "        odd_list=pool.map(odd,[1,2,3,4,5,6,7,8,9])\n",
    "        print(even_list)\n",
    "        print(odd_list)\n",
    "    \n",
    "            "
   ]
  },
  {
   "cell_type": "markdown",
   "id": "68708231-864e-49cf-b3ca-109f1bf2ee90",
   "metadata": {},
   "source": [
    "# Q6. Write a python program to create 4 processes, each process should print a different number using the multiprocessing module in python."
   ]
  },
  {
   "cell_type": "code",
   "execution_count": 43,
   "id": "60930685-5c57-448d-ad6f-e0ce21336333",
   "metadata": {},
   "outputs": [
    {
     "name": "stdout",
     "output_type": "stream",
     "text": [
      "<ForkProcess name='ForkPoolWorker-105' parent=78 started daemon><ForkProcess name='ForkPoolWorker-103' parent=78 started daemon><ForkProcess name='ForkPoolWorker-104' parent=78 started daemon><ForkProcess name='ForkPoolWorker-102' parent=78 started daemon>    4268\n",
      "\n",
      "\n",
      "\n",
      "<ForkProcess name='ForkPoolWorker-104' parent=78 started daemon><ForkProcess name='ForkPoolWorker-103' parent=78 started daemon>  <ForkProcess name='ForkPoolWorker-102' parent=78 started daemon><ForkProcess name='ForkPoolWorker-105' parent=78 started daemon>13 \n",
      "\n",
      " 57<ForkProcess name='ForkPoolWorker-104' parent=78 started daemon>\n",
      "\n",
      " 9\n",
      "[None, 2, None, 4, None, 6, None, 8, None]\n",
      "[1, None, 3, None, 5, None, 7, None, 9]\n"
     ]
    }
   ],
   "source": [
    "import multiprocessing\n",
    "\n",
    "def even(l):\n",
    "        if l%2==0:\n",
    "            print(multiprocessing.current_process(),l)\n",
    "            return(l)\n",
    "        \n",
    "            \n",
    "def odd(l):\n",
    "        if l%2!=0:\n",
    "            print(multiprocessing.current_process(),l)\n",
    "            return(l)\n",
    "if __name__==\"__main__\":\n",
    "     with multiprocessing.Pool(processes=4) as pool:\n",
    "        even_list=pool.map(even,[1,2,3,4,5,6,7,8,9])\n",
    "        \n",
    "        odd_list=pool.map(odd,[1,2,3,4,5,6,7,8,9])\n",
    "        print(even_list)\n",
    "        print(odd_list)"
   ]
  },
  {
   "cell_type": "code",
   "execution_count": null,
   "id": "539e4a66-82bd-436e-acfc-c324f1121de6",
   "metadata": {},
   "outputs": [],
   "source": []
  }
 ],
 "metadata": {
  "kernelspec": {
   "display_name": "Python 3 (ipykernel)",
   "language": "python",
   "name": "python3"
  },
  "language_info": {
   "codemirror_mode": {
    "name": "ipython",
    "version": 3
   },
   "file_extension": ".py",
   "mimetype": "text/x-python",
   "name": "python",
   "nbconvert_exporter": "python",
   "pygments_lexer": "ipython3",
   "version": "3.10.8"
  }
 },
 "nbformat": 4,
 "nbformat_minor": 5
}
